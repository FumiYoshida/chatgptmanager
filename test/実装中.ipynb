{
 "cells": [
  {
   "cell_type": "code",
   "execution_count": 1,
   "id": "a811979d",
   "metadata": {},
   "outputs": [],
   "source": [
    "from codingtools import create_module_from_dir\n",
    "chatgpt = create_module_from_dir(\"../src/chatgptmanager/\")"
   ]
  },
  {
   "cell_type": "code",
   "execution_count": 2,
   "id": "b952762a",
   "metadata": {},
   "outputs": [],
   "source": [
    "import os\n",
    "from collections import deque\n",
    "\n",
    "def bfs_list_files(start_directory, max_files=None):\n",
    "    if not os.path.isdir(start_directory):\n",
    "        raise ValueError(f\"'{start_directory}' is not a directory\")\n",
    "    \n",
    "    queue = deque([start_directory])\n",
    "    files_list = []\n",
    "    \n",
    "    while queue and (max_files is None or len(files_list) < max_files):\n",
    "        directory = queue.popleft()\n",
    "        \n",
    "        try:\n",
    "            with os.scandir(directory) as it:\n",
    "                for entry in it:\n",
    "                    if entry.is_file() and (max_files is None or len(files_list) < max_files):\n",
    "                        files_list.append(entry.path)\n",
    "                    elif entry.is_dir():\n",
    "                        queue.append(entry.path)\n",
    "        except PermissionError as e:\n",
    "            print(f\"PermissionError: {e}\")\n",
    "            continue\n",
    "            \n",
    "    return files_list"
   ]
  },
  {
   "cell_type": "code",
   "execution_count": 50,
   "id": "8a92f362",
   "metadata": {},
   "outputs": [],
   "source": [
    "import inspect\n",
    "import traceback\n",
    "import os\n",
    "import numpy as np\n",
    "import textwrap\n",
    "\n",
    "class TaskChat:\n",
    "    def __init__(self, task, api_key, model_name, test=None, data_source_dir=None):\n",
    "        # タスクの設定\n",
    "        self.task = task\n",
    "        \n",
    "        self.task_suffix = textwrap.dedent(f\"\"\"\n",
    "        上記のタスクを実行するにあたって、こちらで実行が必要なことがあればそれも伝えてください。\n",
    "        ただし最後の行は、以下の形式にしてください。{{\"action\": \"your_action\", \"query\": \"your_query\"}}\n",
    "        そちらの返答`res`は以下のように解析されます。\n",
    "        \n",
    "        \"\"\")\n",
    "        self.task_suffix += inspect.getsource(self.parse_response)\n",
    "        \n",
    "        # テストの設定\n",
    "        self.test_prefix = lambda result: textwrap.dedent(f\"\"\"\n",
    "        以下は、そちらに与えたタスクです。\n",
    "        {self.task}\n",
    "\n",
    "        以下は、そちらの返答です。\n",
    "        {result}\n",
    "        \"\"\")\n",
    "        \n",
    "        default_test = textwrap.dedent(f\"\"\"\n",
    "        そちらの返答が目的を果たしているか、テストコードを書いてください。\n",
    "        \"\"\")\n",
    "        self.test = test or default_test\n",
    "        self.test_suffix = textwrap.dedent(f\"\"\"\n",
    "        コードを書く場合は、「```python」と「```」で囲み、テストに失敗したらエラーが出るようにしてください。\n",
    "        \"\"\")\n",
    "        \n",
    "        self.test_failed_prefix = textwrap.dedent(f\"\"\"\n",
    "        テストに失敗しました。修正をお願いいたします。\n",
    "        \"\"\")\n",
    "        \n",
    "\n",
    "        \n",
    "        # 各種変数\n",
    "        self.chat = chatgpt.Chat(\n",
    "            api_key=api_key,\n",
    "            model_name=model_name,\n",
    "            interactive=True\n",
    "        )\n",
    "        \n",
    "        self.test_chat = chatgpt.Chat(\n",
    "            api_key=api_key,\n",
    "            model_name=model_name,\n",
    "            interactive=False\n",
    "        )\n",
    "        \n",
    "        self.sandbox = {}\n",
    "        self.finished = False\n",
    "        self.result = None\n",
    "        self.next_message = self.task + self.task_suffix # 次にこちらが送る予定のメッセージ\n",
    "        \n",
    "        # データのembedding\n",
    "        self.data_source_dir = data_source_dir\n",
    "        if data_source_dir:\n",
    "            self.paths = bfs_list_files(self.data_source_dir, max_files=100)\n",
    "            self.path_vecs, _ = self.chat.embedding(self.paths)\n",
    "        \n",
    "    def summarize_and_clear_history(self):\n",
    "        self.chat.summarize_and_clear_history()\n",
    "        self.next_message += self.task_suffix # 今までの会話履歴を要約しつつ、会話ルールを再度提示する\n",
    "        \n",
    "    def test_result(self, result):\n",
    "        print('テスト開始')\n",
    "        test_message = self.test_prefix(result) + self.test + self.test_suffix\n",
    "        \n",
    "        res, price = self.test_chat(test_message)\n",
    "        is_successful, exec_result = self.exec_code(res, requires_variable=False)\n",
    "        if is_successful:\n",
    "            self.finished = True\n",
    "            self.next_message = None\n",
    "            self.result = result\n",
    "            print('テスト通過')\n",
    "        else:\n",
    "            self.finished = False\n",
    "            self.next_message = self.test_failed_prefix + exec_result\n",
    "            print('テスト失敗')\n",
    "    \n",
    "    def search(self, query):\n",
    "        if not self.data_source_dir:\n",
    "            return \"search failed; no data source dir. use 'exec' action instead.\"\n",
    "        \n",
    "        file_num = 1\n",
    "\n",
    "        # queryにcos類似度が近い数ファイルを取得\n",
    "        query_vec, price = self.chat.embedding(query)\n",
    "        similarities = query_vec @ self.path_vecs.T\n",
    "        target_idxs = np.argsort(similarities)[-file_num:]\n",
    "        target_paths = np.array(self.paths)[target_idxs]\n",
    "\n",
    "        # ファイルの中身を読み取り、ファイル名とともに返す\n",
    "        data = []\n",
    "        for path in target_paths:\n",
    "            with open(path, encoding='utf-8') as f:\n",
    "                contents = f.read()\n",
    "\n",
    "            data.append({'path': path, 'contents': contents})\n",
    "\n",
    "        return str(data)\n",
    "    \n",
    "    def conversation(self):\n",
    "        res, price = self.chat(self.next_message)\n",
    "        self.parse_response(res)\n",
    "    \n",
    "    def parse_response(self, res):\n",
    "        *lines, last_line = res.splitlines()\n",
    "\n",
    "        action = json.loads(last_line)\n",
    "\n",
    "        if action['action'] == 'finish':\n",
    "            # 結果があっているか、別に用意したテストと照らし合わせて確認する\n",
    "            self.test_result('\\n'.join(lines))\n",
    "        elif action['action'] == 'search':\n",
    "            # 詳細な情報が必要なものをデータベースから探す\n",
    "            self.next_message = self.search(query=action['query'])\n",
    "        elif action['action'] == 'exec':\n",
    "            # ネットワークにアクセスして情報を取得するなど\n",
    "            # 以下とほぼ同じ処理\n",
    "            # exec(action['query'], (sandbox:={}))\n",
    "            # return str(sandbox['result'])\n",
    "            is_successful, result = self.exec_code(action['query'])\n",
    "            self.next_message = result\n",
    "\n",
    "    def exec_code(self, code, requires_variable=True):\n",
    "        if '```python' in code:\n",
    "            code = code.split('```python')[1].split('```')[0]\n",
    "\n",
    "        try:\n",
    "            exec(code, self.sandbox)\n",
    "        except Exception as e:\n",
    "            is_successful = False\n",
    "            return is_successful, traceback.format_exc()\n",
    "        else:\n",
    "            is_successful = True\n",
    "            if requires_variable:\n",
    "                assert 'result' in self.sandbox, \"TODO: resultのkeyがない場合のハンドリング\"\n",
    "                return is_successful, self.sandbox['result']\n",
    "            else:\n",
    "                return is_successful, None"
   ]
  },
  {
   "cell_type": "code",
   "execution_count": 33,
   "id": "32b0e283",
   "metadata": {},
   "outputs": [],
   "source": [
    "task = \"\"\"\n",
    "以下のモジュールのReadme.mdを書いてください。\n",
    "https://github.com/FumiYoshida/timemanager\n",
    "\"\"\"\n",
    "\n",
    "test = \"\"\"\n",
    "readmeが正しいかを判定するため、\n",
    "readmeの内容をもとに、モジュールの各種機能を使い、その機能をテストするコードを書いてください。\n",
    "\"\"\"\n",
    "\n",
    "self = TaskChat(\n",
    "    task=task,\n",
    "    test=test,\n",
    "    api_key=os.environ['OPENAIAPIKEYOFFICE'], \n",
    "    model_name='gpt-4', \n",
    "    data_source_dir='../../timemanager/',\n",
    ")"
   ]
  },
  {
   "cell_type": "code",
   "execution_count": 34,
   "id": "b64092e6",
   "metadata": {},
   "outputs": [],
   "source": [
    "self.chat.chat_history.append({'role': 'system', 'content': 'hello, world!'})"
   ]
  },
  {
   "cell_type": "code",
   "execution_count": 35,
   "id": "4e00fa90",
   "metadata": {},
   "outputs": [
    {
     "name": "stdout",
     "output_type": "stream",
     "text": [
      "\n",
      "以下のモジュールのReadme.mdを書いてください。\n",
      "https://github.com/FumiYoshida/timemanager\n",
      "\n",
      "上記のタスクを実行するにあたって、こちらで実行が必要なことがあればそれも伝えてください。\n",
      "ただし最後の行は、以下の形式にしてください。{\"action\": \"your_action\", \"query\": \"your_query\"}\n",
      "そちらの返答`res`は以下のように解析されます。\n",
      "\n",
      "    def parse_response(self, res):\n",
      "        *lines, last_line = res.splitlines()\n",
      "\n",
      "        action = json.loads(last_line)\n",
      "\n",
      "        if action['action'] == 'finish':\n",
      "            # 結果があっているか、別に用意したテストと照らし合わせて確認する\n",
      "            self.test_result('\\n'.join(lines))\n",
      "        elif action['action'] == 'search':\n",
      "            # 詳細な情報が必要なものをデータベースから探す\n",
      "            self.next_message = self.search(query=action['query'])\n",
      "        elif action['action'] == 'exec':\n",
      "            # ネットワークにアクセスして情報を取得するなど\n",
      "            # 以下とほぼ同じ処理\n",
      "            # exec(action['query'], (sandbox:={}))\n",
      "            # return str(sandbox['result'])\n",
      "            is_successful, result = self.exec_code(action['query'])\n",
      "            self.next_message = result\n",
      "\n"
     ]
    }
   ],
   "source": [
    "print(self.next_message)"
   ]
  },
  {
   "cell_type": "code",
   "execution_count": 36,
   "id": "f749bf1d",
   "metadata": {},
   "outputs": [
    {
     "name": "stdout",
     "output_type": "stream",
     "text": [
      "テスト開始\n",
      "テスト終了\n"
     ]
    }
   ],
   "source": [
    "self.conversation()"
   ]
  },
  {
   "cell_type": "code",
   "execution_count": 37,
   "id": "c018e9f3",
   "metadata": {},
   "outputs": [
    {
     "data": {
      "text/plain": [
       "0.10424220000000001"
      ]
     },
     "execution_count": 37,
     "metadata": {},
     "output_type": "execute_result"
    }
   ],
   "source": [
    "self.chat.fee"
   ]
  },
  {
   "cell_type": "code",
   "execution_count": 38,
   "id": "d9aa01e8",
   "metadata": {},
   "outputs": [
    {
     "data": {
      "text/plain": [
       "'\\nテストに失敗しました。修正をお願いいたします。\\nTraceback (most recent call last):\\n  File \"C:\\\\Users\\\\kose\\\\AppData\\\\Local\\\\Temp/ipykernel_17596/2305019043.py\", line 126, in exec_code\\n    exec(code, self.sandbox)\\n  File \"<string>\", line 3, in <module>\\nImportError: cannot import name \\'TimeManager\\' from \\'timemanager\\' (C:\\\\Users\\\\kose\\\\AppData\\\\Local\\\\Programs\\\\Python\\\\Python39\\\\lib\\\\site-packages\\\\timemanager\\\\__init__.py)\\n'"
      ]
     },
     "execution_count": 38,
     "metadata": {},
     "output_type": "execute_result"
    }
   ],
   "source": [
    "self.next_message"
   ]
  },
  {
   "cell_type": "code",
   "execution_count": 51,
   "id": "9c7777eb",
   "metadata": {},
   "outputs": [
    {
     "name": "stdout",
     "output_type": "stream",
     "text": [
      "テスト開始\n"
     ]
    },
    {
     "ename": "KeyError",
     "evalue": "'result'",
     "output_type": "error",
     "traceback": [
      "\u001b[1;31m---------------------------------------------------------------------------\u001b[0m",
      "\u001b[1;31mKeyError\u001b[0m                                  Traceback (most recent call last)",
      "\u001b[1;32m~\\AppData\\Local\\Temp/ipykernel_17596/557317048.py\u001b[0m in \u001b[0;36m<module>\u001b[1;34m\u001b[0m\n\u001b[1;32m----> 1\u001b[1;33m \u001b[0mself\u001b[0m\u001b[1;33m.\u001b[0m\u001b[0mconversation\u001b[0m\u001b[1;33m(\u001b[0m\u001b[1;33m)\u001b[0m\u001b[1;33m\u001b[0m\u001b[1;33m\u001b[0m\u001b[0m\n\u001b[0m",
      "\u001b[1;32m~\\AppData\\Local\\Temp/ipykernel_17596/2305019043.py\u001b[0m in \u001b[0;36mconversation\u001b[1;34m(self)\u001b[0m\n\u001b[0;32m     98\u001b[0m     \u001b[1;32mdef\u001b[0m \u001b[0mconversation\u001b[0m\u001b[1;33m(\u001b[0m\u001b[0mself\u001b[0m\u001b[1;33m)\u001b[0m\u001b[1;33m:\u001b[0m\u001b[1;33m\u001b[0m\u001b[1;33m\u001b[0m\u001b[0m\n\u001b[0;32m     99\u001b[0m         \u001b[0mres\u001b[0m\u001b[1;33m,\u001b[0m \u001b[0mprice\u001b[0m \u001b[1;33m=\u001b[0m \u001b[0mself\u001b[0m\u001b[1;33m.\u001b[0m\u001b[0mchat\u001b[0m\u001b[1;33m(\u001b[0m\u001b[0mself\u001b[0m\u001b[1;33m.\u001b[0m\u001b[0mnext_message\u001b[0m\u001b[1;33m)\u001b[0m\u001b[1;33m\u001b[0m\u001b[1;33m\u001b[0m\u001b[0m\n\u001b[1;32m--> 100\u001b[1;33m         \u001b[0mself\u001b[0m\u001b[1;33m.\u001b[0m\u001b[0mparse_response\u001b[0m\u001b[1;33m(\u001b[0m\u001b[0mres\u001b[0m\u001b[1;33m)\u001b[0m\u001b[1;33m\u001b[0m\u001b[1;33m\u001b[0m\u001b[0m\n\u001b[0m\u001b[0;32m    101\u001b[0m \u001b[1;33m\u001b[0m\u001b[0m\n\u001b[0;32m    102\u001b[0m     \u001b[1;32mdef\u001b[0m \u001b[0mparse_response\u001b[0m\u001b[1;33m(\u001b[0m\u001b[0mself\u001b[0m\u001b[1;33m,\u001b[0m \u001b[0mres\u001b[0m\u001b[1;33m)\u001b[0m\u001b[1;33m:\u001b[0m\u001b[1;33m\u001b[0m\u001b[1;33m\u001b[0m\u001b[0m\n",
      "\u001b[1;32m~\\AppData\\Local\\Temp/ipykernel_17596/2305019043.py\u001b[0m in \u001b[0;36mparse_response\u001b[1;34m(self, res)\u001b[0m\n\u001b[0;32m    107\u001b[0m         \u001b[1;32mif\u001b[0m \u001b[0maction\u001b[0m\u001b[1;33m[\u001b[0m\u001b[1;34m'action'\u001b[0m\u001b[1;33m]\u001b[0m \u001b[1;33m==\u001b[0m \u001b[1;34m'finish'\u001b[0m\u001b[1;33m:\u001b[0m\u001b[1;33m\u001b[0m\u001b[1;33m\u001b[0m\u001b[0m\n\u001b[0;32m    108\u001b[0m             \u001b[1;31m# 結果があっているか、別に用意したテストと照らし合わせて確認する\u001b[0m\u001b[1;33m\u001b[0m\u001b[1;33m\u001b[0m\u001b[0m\n\u001b[1;32m--> 109\u001b[1;33m             \u001b[0mself\u001b[0m\u001b[1;33m.\u001b[0m\u001b[0mtest_result\u001b[0m\u001b[1;33m(\u001b[0m\u001b[1;34m'\\n'\u001b[0m\u001b[1;33m.\u001b[0m\u001b[0mjoin\u001b[0m\u001b[1;33m(\u001b[0m\u001b[0mlines\u001b[0m\u001b[1;33m)\u001b[0m\u001b[1;33m)\u001b[0m\u001b[1;33m\u001b[0m\u001b[1;33m\u001b[0m\u001b[0m\n\u001b[0m\u001b[0;32m    110\u001b[0m         \u001b[1;32melif\u001b[0m \u001b[0maction\u001b[0m\u001b[1;33m[\u001b[0m\u001b[1;34m'action'\u001b[0m\u001b[1;33m]\u001b[0m \u001b[1;33m==\u001b[0m \u001b[1;34m'search'\u001b[0m\u001b[1;33m:\u001b[0m\u001b[1;33m\u001b[0m\u001b[1;33m\u001b[0m\u001b[0m\n\u001b[0;32m    111\u001b[0m             \u001b[1;31m# 詳細な情報が必要なものをデータベースから探す\u001b[0m\u001b[1;33m\u001b[0m\u001b[1;33m\u001b[0m\u001b[0m\n",
      "\u001b[1;32m~\\AppData\\Local\\Temp/ipykernel_17596/2305019043.py\u001b[0m in \u001b[0;36mtest_result\u001b[1;34m(self, result)\u001b[0m\n\u001b[0;32m     65\u001b[0m \u001b[1;33m\u001b[0m\u001b[0m\n\u001b[0;32m     66\u001b[0m         \u001b[0mres\u001b[0m\u001b[1;33m,\u001b[0m \u001b[0mprice\u001b[0m \u001b[1;33m=\u001b[0m \u001b[0mself\u001b[0m\u001b[1;33m.\u001b[0m\u001b[0mchat\u001b[0m\u001b[1;33m(\u001b[0m\u001b[0mtest_message\u001b[0m\u001b[1;33m)\u001b[0m\u001b[1;33m\u001b[0m\u001b[1;33m\u001b[0m\u001b[0m\n\u001b[1;32m---> 67\u001b[1;33m         \u001b[0mis_successful\u001b[0m\u001b[1;33m,\u001b[0m \u001b[0mexec_result\u001b[0m \u001b[1;33m=\u001b[0m \u001b[0mself\u001b[0m\u001b[1;33m.\u001b[0m\u001b[0mexec_code\u001b[0m\u001b[1;33m(\u001b[0m\u001b[0mres\u001b[0m\u001b[1;33m)\u001b[0m\u001b[1;33m\u001b[0m\u001b[1;33m\u001b[0m\u001b[0m\n\u001b[0m\u001b[0;32m     68\u001b[0m         \u001b[1;32mif\u001b[0m \u001b[0mis_successful\u001b[0m\u001b[1;33m:\u001b[0m\u001b[1;33m\u001b[0m\u001b[1;33m\u001b[0m\u001b[0m\n\u001b[0;32m     69\u001b[0m             \u001b[0mself\u001b[0m\u001b[1;33m.\u001b[0m\u001b[0mfinished\u001b[0m \u001b[1;33m=\u001b[0m \u001b[1;32mTrue\u001b[0m\u001b[1;33m\u001b[0m\u001b[1;33m\u001b[0m\u001b[0m\n",
      "\u001b[1;32m~\\AppData\\Local\\Temp/ipykernel_17596/2305019043.py\u001b[0m in \u001b[0;36mexec_code\u001b[1;34m(self, code)\u001b[0m\n\u001b[0;32m    130\u001b[0m         \u001b[1;32melse\u001b[0m\u001b[1;33m:\u001b[0m\u001b[1;33m\u001b[0m\u001b[1;33m\u001b[0m\u001b[0m\n\u001b[0;32m    131\u001b[0m             \u001b[0mis_successful\u001b[0m \u001b[1;33m=\u001b[0m \u001b[1;32mTrue\u001b[0m\u001b[1;33m\u001b[0m\u001b[1;33m\u001b[0m\u001b[0m\n\u001b[1;32m--> 132\u001b[1;33m             \u001b[1;32mreturn\u001b[0m \u001b[0mis_successful\u001b[0m\u001b[1;33m,\u001b[0m \u001b[0mself\u001b[0m\u001b[1;33m.\u001b[0m\u001b[0msandbox\u001b[0m\u001b[1;33m[\u001b[0m\u001b[1;34m'result'\u001b[0m\u001b[1;33m]\u001b[0m \u001b[1;31m#TODO: resultのkeyがない場合のハンドリング\u001b[0m\u001b[1;33m\u001b[0m\u001b[1;33m\u001b[0m\u001b[0m\n\u001b[0m",
      "\u001b[1;31mKeyError\u001b[0m: 'result'"
     ]
    }
   ],
   "source": [
    "self.conversation()"
   ]
  },
  {
   "cell_type": "code",
   "execution_count": 52,
   "id": "a94e36b3",
   "metadata": {},
   "outputs": [
    {
     "name": "stdout",
     "output_type": "stream",
     "text": [
      "> \u001b[1;32mc:\\users\\kose\\appdata\\local\\temp\\ipykernel_17596\\2305019043.py\u001b[0m(132)\u001b[0;36mexec_code\u001b[1;34m()\u001b[0m\n",
      "\n",
      "ipdb> l\n",
      "\u001b[0;32m    127 \u001b[0m        \u001b[1;32mexcept\u001b[0m \u001b[0mException\u001b[0m \u001b[1;32mas\u001b[0m \u001b[0me\u001b[0m\u001b[1;33m:\u001b[0m\u001b[1;33m\u001b[0m\u001b[1;33m\u001b[0m\u001b[0m\n",
      "\u001b[0;32m    128 \u001b[0m            \u001b[0mis_successful\u001b[0m \u001b[1;33m=\u001b[0m \u001b[1;32mFalse\u001b[0m\u001b[1;33m\u001b[0m\u001b[1;33m\u001b[0m\u001b[0m\n",
      "\u001b[0;32m    129 \u001b[0m            \u001b[1;32mreturn\u001b[0m \u001b[0mis_successful\u001b[0m\u001b[1;33m,\u001b[0m \u001b[0mtraceback\u001b[0m\u001b[1;33m.\u001b[0m\u001b[0mformat_exc\u001b[0m\u001b[1;33m(\u001b[0m\u001b[1;33m)\u001b[0m\u001b[1;33m\u001b[0m\u001b[1;33m\u001b[0m\u001b[0m\n",
      "\u001b[0;32m    130 \u001b[0m        \u001b[1;32melse\u001b[0m\u001b[1;33m:\u001b[0m\u001b[1;33m\u001b[0m\u001b[1;33m\u001b[0m\u001b[0m\n",
      "\u001b[0;32m    131 \u001b[0m            \u001b[0mis_successful\u001b[0m \u001b[1;33m=\u001b[0m \u001b[1;32mTrue\u001b[0m\u001b[1;33m\u001b[0m\u001b[1;33m\u001b[0m\u001b[0m\n",
      "\u001b[1;32m--> 132 \u001b[1;33m            \u001b[1;32mreturn\u001b[0m \u001b[0mis_successful\u001b[0m\u001b[1;33m,\u001b[0m \u001b[0mself\u001b[0m\u001b[1;33m.\u001b[0m\u001b[0msandbox\u001b[0m\u001b[1;33m[\u001b[0m\u001b[1;34m'result'\u001b[0m\u001b[1;33m]\u001b[0m \u001b[1;31m#TODO: resultのkeyがない場合のハンドリング\u001b[0m\u001b[1;33m\u001b[0m\u001b[1;33m\u001b[0m\u001b[0m\n",
      "\u001b[0m\n",
      "ipdb> self.sandbox\n",
      "{'__builtins__': {'__name__': 'builtins', '__doc__': \"Built-in functions, exceptions, and other objects.\\n\\nNoteworthy: None is the `nil' object; Ellipsis represents `...' in slices.\", '__package__': '', '__loader__': <class '_frozen_importlib.BuiltinImporter'>, '__spec__': ModuleSpec(name='builtins', loader=<class '_frozen_importlib.BuiltinImporter'>, origin='built-in'), '__build_class__': <built-in function __build_class__>, '__import__': <built-in function __import__>, 'abs': <built-in function abs>, 'all': <built-in function all>, 'any': <built-in function any>, 'ascii': <built-in function ascii>, 'bin': <built-in function bin>, 'breakpoint': <built-in function breakpoint>, 'callable': <built-in function callable>, 'chr': <built-in function chr>, 'compile': <built-in function compile>, 'delattr': <built-in function delattr>, 'dir': <built-in function dir>, 'divmod': <built-in function divmod>, 'eval': <built-in function eval>, 'exec': <built-in function exec>, 'format': <built-in function format>, 'getattr': <built-in function getattr>, 'globals': <built-in function globals>, 'hasattr': <built-in function hasattr>, 'hash': <built-in function hash>, 'hex': <built-in function hex>, 'id': <built-in function id>, 'input': <bound method Kernel.raw_input of <ipykernel.ipkernel.IPythonKernel object at 0x00000265867C5A60>>, 'isinstance': <built-in function isinstance>, 'issubclass': <built-in function issubclass>, 'iter': <built-in function iter>, 'len': <built-in function len>, 'locals': <built-in function locals>, 'max': <built-in function max>, 'min': <built-in function min>, 'next': <built-in function next>, 'oct': <built-in function oct>, 'ord': <built-in function ord>, 'pow': <built-in function pow>, 'print': <built-in function print>, 'repr': <built-in function repr>, 'round': <built-in function round>, 'setattr': <built-in function setattr>, 'sorted': <built-in function sorted>, 'sum': <built-in function sum>, 'vars': <built-in function vars>, 'None': None, 'Ellipsis': Ellipsis, 'NotImplemented': NotImplemented, 'False': False, 'True': True, 'bool': <class 'bool'>, 'memoryview': <class 'memoryview'>, 'bytearray': <class 'bytearray'>, 'bytes': <class 'bytes'>, 'classmethod': <class 'classmethod'>, 'complex': <class 'complex'>, 'dict': <class 'dict'>, 'enumerate': <class 'enumerate'>, 'filter': <class 'filter'>, 'float': <class 'float'>, 'frozenset': <class 'frozenset'>, 'property': <class 'property'>, 'int': <class 'int'>, 'list': <class 'list'>, 'map': <class 'map'>, 'object': <class 'object'>, 'range': <class 'range'>, 'reversed': <class 'reversed'>, 'set': <class 'set'>, 'slice': <class 'slice'>, 'staticmethod': <class 'staticmethod'>, 'str': <class 'str'>, 'super': <class 'super'>, 'tuple': <class 'tuple'>, 'type': <class 'type'>, 'zip': <class 'zip'>, '__debug__': True, 'BaseException': <class 'BaseException'>, 'Exception': <class 'Exception'>, 'TypeError': <class 'TypeError'>, 'StopAsyncIteration': <class 'StopAsyncIteration'>, 'StopIteration': <class 'StopIteration'>, 'GeneratorExit': <class 'GeneratorExit'>, 'SystemExit': <class 'SystemExit'>, 'KeyboardInterrupt': <class 'KeyboardInterrupt'>, 'ImportError': <class 'ImportError'>, 'ModuleNotFoundError': <class 'ModuleNotFoundError'>, 'OSError': <class 'OSError'>, 'EnvironmentError': <class 'OSError'>, 'IOError': <class 'OSError'>, 'WindowsError': <class 'OSError'>, 'EOFError': <class 'EOFError'>, 'RuntimeError': <class 'RuntimeError'>, 'RecursionError': <class 'RecursionError'>, 'NotImplementedError': <class 'NotImplementedError'>, 'NameError': <class 'NameError'>, 'UnboundLocalError': <class 'UnboundLocalError'>, 'AttributeError': <class 'AttributeError'>, 'SyntaxError': <class 'SyntaxError'>, 'IndentationError': <class 'IndentationError'>, 'TabError': <class 'TabError'>, 'LookupError': <class 'LookupError'>, 'IndexError': <class 'IndexError'>, 'KeyError': <class 'KeyError'>, 'ValueError': <class 'ValueError'>, 'UnicodeError': <class 'UnicodeError'>, 'UnicodeEncodeError': <class 'UnicodeEncodeError'>, 'UnicodeDecodeError': <class 'UnicodeDecodeError'>, 'UnicodeTranslateError': <class 'UnicodeTranslateError'>, 'AssertionError': <class 'AssertionError'>, 'ArithmeticError': <class 'ArithmeticError'>, 'FloatingPointError': <class 'FloatingPointError'>, 'OverflowError': <class 'OverflowError'>, 'ZeroDivisionError': <class 'ZeroDivisionError'>, 'SystemError': <class 'SystemError'>, 'ReferenceError': <class 'ReferenceError'>, 'MemoryError': <class 'MemoryError'>, 'BufferError': <class 'BufferError'>, 'Warning': <class 'Warning'>, 'UserWarning': <class 'UserWarning'>, 'DeprecationWarning': <class 'DeprecationWarning'>, 'PendingDeprecationWarning': <class 'PendingDeprecationWarning'>, 'SyntaxWarning': <class 'SyntaxWarning'>, 'RuntimeWarning': <class 'RuntimeWarning'>, 'FutureWarning': <class 'FutureWarning'>, 'ImportWarning': <class 'ImportWarning'>, 'UnicodeWarning': <class 'UnicodeWarning'>, 'BytesWarning': <class 'BytesWarning'>, 'ResourceWarning': <class 'ResourceWarning'>, 'ConnectionError': <class 'ConnectionError'>, 'BlockingIOError': <class 'BlockingIOError'>, 'BrokenPipeError': <class 'BrokenPipeError'>, 'ChildProcessError': <class 'ChildProcessError'>, 'ConnectionAbortedError': <class 'ConnectionAbortedError'>, 'ConnectionRefusedError': <class 'ConnectionRefusedError'>, 'ConnectionResetError': <class 'ConnectionResetError'>, 'FileExistsError': <class 'FileExistsError'>, 'FileNotFoundError': <class 'FileNotFoundError'>, 'IsADirectoryError': <class 'IsADirectoryError'>, 'NotADirectoryError': <class 'NotADirectoryError'>, 'InterruptedError': <class 'InterruptedError'>, 'PermissionError': <class 'PermissionError'>, 'ProcessLookupError': <class 'ProcessLookupError'>, 'TimeoutError': <class 'TimeoutError'>, 'open': <built-in function open>, 'copyright': Copyright (c) 2001-2021 Python Software Foundation.\n",
      "All Rights Reserved.\n",
      "\n",
      "Copyright (c) 2000 BeOpen.com.\n",
      "All Rights Reserved.\n",
      "\n",
      "Copyright (c) 1995-2001 Corporation for National Research Initiatives.\n",
      "All Rights Reserved.\n",
      "\n",
      "Copyright (c) 1991-1995 Stichting Mathematisch Centrum, Amsterdam.\n",
      "All Rights Reserved., 'credits':     Thanks to CWI, CNRI, BeOpen.com, Zope Corporation and a cast of thousands\n",
      "    for supporting Python development.  See www.python.org for more information., 'license': Type license() to see the full license text, 'help': Type help() for interactive help, or help(object) for help about object., 'execfile': <function execfile at 0x0000026586453550>, 'runfile': <function runfile at 0x000002658653E3A0>, '__IPYTHON__': True, 'display': <function display at 0x00000265849941F0>, 'get_ipython': <bound method InteractiveShell.get_ipython of <ipykernel.zmqshell.ZMQInteractiveShell object at 0x00000265867C5AC0>>}, 'time': <module 'time' (built-in)>, 'timemanager': <module 'timemanager.timemanager' from 'C:\\\\Users\\\\kose\\\\AppData\\\\Local\\\\Programs\\\\Python\\\\Python39\\\\lib\\\\site-packages\\\\timemanager\\\\timemanager.py'>, 'pd': <module 'pandas' from 'C:\\\\Users\\\\kose\\\\AppData\\\\Local\\\\Programs\\\\Python\\\\Python39\\\\lib\\\\site-packages\\\\pandas\\\\__init__.py'>, 'current_time': Timestamp('2023-10-18 20:00:00.993888+0900', tz='Asia/Tokyo'), 'converted_time': Timestamp('2022-01-01 09:00:00+0900', tz='Asia/Tokyo'), 'start_time': Timestamp('2023-10-18 20:00:01.013835'), 'end_time': Timestamp('2023-10-18 20:00:03.013900')}\n"
     ]
    },
    {
     "name": "stdout",
     "output_type": "stream",
     "text": [
      "ipdb> q\n"
     ]
    }
   ],
   "source": [
    "%debug"
   ]
  },
  {
   "cell_type": "code",
   "execution_count": 64,
   "id": "71bb4d47",
   "metadata": {},
   "outputs": [],
   "source": [
    "*lines, last_line = self.chat.chat_history[-3]['content'].splitlines()"
   ]
  },
  {
   "cell_type": "code",
   "execution_count": 67,
   "id": "69f671d7",
   "metadata": {},
   "outputs": [],
   "source": [
    "result = '\\n'.join(lines)"
   ]
  },
  {
   "cell_type": "code",
   "execution_count": 68,
   "id": "8ffbbd30",
   "metadata": {},
   "outputs": [
    {
     "name": "stdout",
     "output_type": "stream",
     "text": [
      "ご提供いただいた情報をもとに、READMEとテストコードを修正します。\n",
      "\n",
      "# TimeManager\n",
      "\n",
      "TimeManagerは、時刻を扱うPythonモジュールです。このモジュールを使用すると、時刻の取得、変換、および管理が容易になります。\n",
      "\n",
      "## Features\n",
      "\n",
      "- 現在時刻の取得: 現在の時刻をpandas.Timestamp型で取得します。\n",
      "- 時刻の変換: UTC時刻や任意のタイムゾーンの時刻をpandas.Timestamp型に変換します。\n",
      "- プログラムの停止: 指定した秒数や指定した時刻までプログラムを停止します。\n",
      "\n",
      "## Installation\n",
      "\n",
      "以下のコマンドを使用して、TimeManagerをインストールしてください。\n",
      "\n",
      "```\n",
      "pip install git+https://github.com/FumiYoshida/timemanager\n",
      "```\n",
      "\n",
      "## Usage\n",
      "\n",
      "以下は、TimeManagerの基本的な使用方法です。\n",
      "\n",
      "```python\n",
      "from timemanager import timemanager\n",
      "\n",
      "# 現在時刻の取得\n",
      "current_time = timemanager.now()\n",
      "print(f'Current time: {current_time}')\n",
      "\n",
      "# 時刻の変換\n",
      "converted_time = timemanager.from_utc('2022-01-01T00:00:00Z')\n",
      "print(f'Converted time: {converted_time}')\n",
      "\n",
      "# プログラムの停止\n",
      "timemanager.wait(2)\n",
      "```\n",
      "\n",
      "詳細なドキュメンテーションは、[こちら](https://github.com/FumiYoshida/timemanager/wiki)をご覧ください。\n",
      "\n",
      "## Contributing\n",
      "\n",
      "バグレポートやフィーチャーリクエストは、GitHubのissueでお知らせください。また、プルリクエストも大歓迎です。\n",
      "\n",
      "## License\n",
      "\n",
      "このプロジェクトはMITライセンスのもとで公開されています。詳細は[LICENSE](https://github.com/FumiYoshida/timemanager/blob/main/LICENSE)をご覧ください。\n",
      "\n",
      "以下は、TimeManagerモジュールの基本的な機能をテストするPythonコードです。\n",
      "\n",
      "```python\n",
      "from timemanager import timemanager\n",
      "import pandas as pd\n",
      "\n",
      "# 現在時刻の取得\n",
      "current_time = timemanager.now()\n",
      "assert isinstance(current_time, pd.Timestamp), 'Error: Current time should be a pandas.Timestamp.'\n",
      "\n",
      "# 時刻の変換\n",
      "converted_time = timemanager.from_utc('2022-01-01T00:00:00Z')\n",
      "assert isinstance(converted_time, pd.Timestamp), 'Error: Converted time should be a pandas.Timestamp.'\n",
      "assert converted_time == pd.Timestamp('2022-01-01T09:00:00', tz='Asia/Tokyo'), 'Error: Converted time is incorrect.'\n",
      "\n",
      "# プログラムの停止\n",
      "start_time = pd.Timestamp.now()\n",
      "timemanager.wait(2)\n",
      "end_time = pd.Timestamp.now()\n",
      "assert (end_time - start_time).total_seconds() >= 2, 'Error: Wait function did not pause execution for at least 2 seconds.'\n",
      "```\n",
      "\n",
      "このコードは、現在時刻の取得、時刻の変換、およびプログラムの停止というTimeManagerの基本的な機能をテストします。\n",
      "\n"
     ]
    }
   ],
   "source": [
    "print(result)"
   ]
  },
  {
   "cell_type": "code",
   "execution_count": null,
   "id": "a1f876bf",
   "metadata": {},
   "outputs": [],
   "source": []
  },
  {
   "cell_type": "code",
   "execution_count": 32,
   "id": "a36fee36",
   "metadata": {},
   "outputs": [],
   "source": [
    "data_source_dir = \"../../timemanager/\""
   ]
  },
  {
   "cell_type": "code",
   "execution_count": 33,
   "id": "a942ac84",
   "metadata": {},
   "outputs": [],
   "source": [
    "self.chat.summarize_and_clear_history()"
   ]
  },
  {
   "cell_type": "code",
   "execution_count": 34,
   "id": "da7b4e4f",
   "metadata": {},
   "outputs": [
    {
     "data": {
      "text/plain": [
       "0.19215000000000002"
      ]
     },
     "execution_count": 34,
     "metadata": {},
     "output_type": "execute_result"
    }
   ],
   "source": [
    "self.chat.fee"
   ]
  },
  {
   "cell_type": "code",
   "execution_count": 38,
   "id": "50afa45b",
   "metadata": {},
   "outputs": [],
   "source": [
    "query = \"TimeManager module documentation\""
   ]
  },
  {
   "cell_type": "code",
   "execution_count": 41,
   "id": "e55cf4ee",
   "metadata": {},
   "outputs": [],
   "source": []
  },
  {
   "cell_type": "code",
   "execution_count": 42,
   "id": "791b6064",
   "metadata": {},
   "outputs": [
    {
     "data": {
      "text/plain": [
       "array([-2.59984990e-05, -1.55070545e-02, -1.79300327e-02, ...,\n",
       "        9.97206569e-03,  1.67185441e-02, -2.55169794e-02])"
      ]
     },
     "execution_count": 42,
     "metadata": {},
     "output_type": "execute_result"
    }
   ],
   "source": [
    "query_vec"
   ]
  },
  {
   "cell_type": "code",
   "execution_count": 50,
   "id": "692e96af",
   "metadata": {},
   "outputs": [],
   "source": []
  },
  {
   "cell_type": "code",
   "execution_count": 53,
   "id": "e89de63b",
   "metadata": {},
   "outputs": [],
   "source": []
  },
  {
   "cell_type": "code",
   "execution_count": 54,
   "id": "f5a04e80",
   "metadata": {},
   "outputs": [],
   "source": []
  },
  {
   "cell_type": "code",
   "execution_count": 58,
   "id": "d9fe082c",
   "metadata": {},
   "outputs": [],
   "source": [
    "import numpy as np"
   ]
  },
  {
   "cell_type": "code",
   "execution_count": 60,
   "id": "93bd5c3c",
   "metadata": {},
   "outputs": [
    {
     "data": {
      "text/plain": [
       "(100, 1536)"
      ]
     },
     "execution_count": 60,
     "metadata": {},
     "output_type": "execute_result"
    }
   ],
   "source": [
    "vecs.shape"
   ]
  },
  {
   "cell_type": "code",
   "execution_count": 67,
   "id": "f3ad5d4f",
   "metadata": {},
   "outputs": [],
   "source": []
  },
  {
   "cell_type": "code",
   "execution_count": 69,
   "id": "325cc130",
   "metadata": {},
   "outputs": [],
   "source": []
  },
  {
   "cell_type": "code",
   "execution_count": 89,
   "id": "94e84237",
   "metadata": {},
   "outputs": [],
   "source": []
  },
  {
   "cell_type": "code",
   "execution_count": 94,
   "id": "06cd0434",
   "metadata": {},
   "outputs": [],
   "source": []
  },
  {
   "cell_type": "code",
   "execution_count": 95,
   "id": "25c88e05",
   "metadata": {
    "code_folding": []
   },
   "outputs": [],
   "source": []
  },
  {
   "cell_type": "code",
   "execution_count": 100,
   "id": "1c13efa8",
   "metadata": {},
   "outputs": [],
   "source": [
    "self.next_message = str(data) + self.task_suffix"
   ]
  },
  {
   "cell_type": "code",
   "execution_count": 102,
   "id": "28a28100",
   "metadata": {},
   "outputs": [
    {
     "name": "stdout",
     "output_type": "stream",
     "text": [
      "テスト開始\n",
      "テスト終了\n"
     ]
    }
   ],
   "source": [
    "self.conversation()"
   ]
  },
  {
   "cell_type": "code",
   "execution_count": 103,
   "id": "0f306812",
   "metadata": {},
   "outputs": [
    {
     "data": {
      "text/plain": [
       "'\\nテストに失敗しました。修正をお願いいたします。\\nTraceback (most recent call last):\\n  File \"C:\\\\Users\\\\kose\\\\AppData\\\\Local\\\\Temp/ipykernel_14468/1748207672.py\", line 95, in exec_code\\n    exec(code, self.sandbox)\\n  File \"<string>\", line 1\\n    この会話は、あなたが私にGitHubの特定のリポジトリ（https://github.com/FumiYoshida/timemanager）のReadme.mdを作成するように依頼したことから始まりました。私はその依頼に応じて、仮想的なPythonモジュール「TimeManager」のReadme.mdを作成しました。\\n         ^\\nSyntaxError: invalid character \\'、\\' (U+3001)\\n'"
      ]
     },
     "execution_count": 103,
     "metadata": {},
     "output_type": "execute_result"
    }
   ],
   "source": [
    "self.next_message"
   ]
  },
  {
   "cell_type": "code",
   "execution_count": 104,
   "id": "adcc6b40",
   "metadata": {},
   "outputs": [
    {
     "data": {
      "text/plain": [
       "[{'role': 'user', 'content': '今までの会話を要約してください。'},\n",
       " {'role': 'assistant',\n",
       "  'content': 'まず、あなたは私に以下のモジュールのReadme.mdを書くように依頼しました。\\nhttps://github.com/FumiYoshida/timemanager\\n\\n私はその依頼に対して、TimeManagerという仮想的なPythonモジュールのReadme.mdを作成しました。その内容には、モジュールの特徴、インストール方法、使用方法などが含まれています。\\n\\nその後、あなたは私に、作成したReadme.mdの内容をもとに、モジュールの各機能をテストするコードを書くように依頼しました。私はその依頼に対して、TimeManagerモジュールの各機能をテストするPythonコードを提供しました。\\n\\nしかし、そのテストコードを実行したところ、エラーが発生しました。その原因は、指定されたURLからはTimeManagerという名前のモジュールをインポートできないためでした。\\n\\n私はその事実を認め、私が提供した情報が仮想的なものであり、実際のTimeManagerモジュールの機能や使用方法を反映していないことを説明しました。そして、実際のモジュールのテストを行うには、モジュールの詳細なドキュメンテーションやソースコードを参照する必要があると述べました。\\n\\n最後に、具体的な問題や要求があれば、それに対応するための追加情報を提供することを提案しました。\\n\\n{\"action\": \"finish\", \"query\": \"Summary of the conversation\"}'},\n",
       " {'role': 'user',\n",
       "  'content': '[{\\'path\\': \\'../../timemanager/src\\\\\\\\timemanager\\\\\\\\timemanager.py\\', \\'contents\\': \\'import time as time_module\\\\nfrom ctypes import windll\\\\nimport datetime\\\\n\\\\nimport numpy as np\\\\nimport pandas as pd\\\\nimport jpholiday\\\\n\\\\nfrom .common import *\\\\n\\\\n# タイムゾーンの設定\\\\nTIMEZONE = \\\\\\'Asia/Tokyo\\\\\\'\\\\n\\\\n# windowsのクロック解像度はデフォルトでは1/64秒=15.625ミリ秒\\\\n# これをより短く設定する\\\\nDTIME = 1\\\\nwindll.winmm.timeBeginPeriod(DTIME)\\\\n\\\\n# wait_if_pace_too_fast 関数が最後に呼ばれた時刻\\\\n_time_last_wait_if_func_called = None\\\\n\\\\n# モジュールの削除と同時にクロックの解像度の変更をもとに戻す必要があるが、\\\\n# モジュールにデストラクタを定義する方法がわからないので、\\\\n# このモジュールでしか使われない適当なクラスのインスタンスを作って、\\\\n# そこのデストラクタに解像度を元に戻す処理を書く\\\\nclass _HiddenDestructor:\\\\n    def __init__(self):\\\\n        pass\\\\n    \\\\n    def __del__(self):\\\\n        # クロック解像度の変更をもとに戻す\\\\n        windll.winmm.timeEndPeriod(DTIME)\\\\n\\\\n_DO_NOT_REFER_THIS = _HiddenDestructor()\\\\n\\\\ndef now():\\\\n    \"\"\"現在時刻をpandas.Timestamp型で返す\"\"\"\\\\n    return pd.to_datetime(\\\\\\'now\\\\\\', utc=True).tz_convert(TIMEZONE)\\\\n\\\\ndef from_utc(time):\\\\n    \"\"\"UTC時刻をpandas.Timestamp型に変換する\"\"\"\\\\n    return pd.to_datetime(time, utc=True).tz_convert(TIMEZONE)\\\\n\\\\ndef from_timezone(time, timezone=None):\\\\n    \"\"\"\\\\n    任意のタイムゾーンの時刻をpandas.Timestamp型に変換する\\\\n    \\\\n    Parameters\\\\n    ----------\\\\n    time : str or datetime-like object\\\\n        時刻。\\\\n    timezone : str, optional\\\\n        タイムゾーン。デフォルトではAsia/Tokyo(UTC+9)として処理される。\\\\n    \"\"\"\\\\n    if hasattr(time, \\\\\\'tzinfo\\\\\\') and time.tzinfo is not None:\\\\n        # すでにタイムゾーンの情報があるオブジェクトのとき\\\\n        return pd.to_datetime(time).tz_convert(TIMEZONE)\\\\n    if timezone is None:\\\\n        return pd.to_datetime(time, utc=False).tz_localize(TIMEZONE)\\\\n    else:\\\\n        return pd.to_datetime(time, utc=False).tz_localize(timezone).tz_convert(TIMEZONE)\\\\n\\\\ndef to_datetime(time_obj):  \\\\n    if isinstance(time_obj, datetime.datetime):\\\\n        return time_obj\\\\n    elif isinstance(time_obj, datetime.date):\\\\n        return datetime.datetime(time_obj.year, time_obj.month, time_obj.day)\\\\n    elif isinstance(time_obj, np.datetime64):\\\\n        return pd.Timestamp(time_obj).to_pydatetime(warn=False)\\\\n    elif isinstance(time_obj, pd.Timestamp):\\\\n        return time_obj.to_pydatetime(warn=False)\\\\n    elif isinstance(time_obj, str): \\\\n        if time_obj == \\\\\\'now\\\\\\':\\\\n            return now().to_pydatetime(warn=False)\\\\n        else:\\\\n            return pd.to_datetime(time_obj).to_pydatetime(warn=False)\\\\n    else:\\\\n        raise ValueError(\"Unsupported type\")\\\\n        \\\\ndef to_date(time_obj):\\\\n    return to_datetime(time_obj).date()\\\\n    \\\\ndef previous_day(date):\\\\n    return date - datetime.timedelta(days=1)\\\\n    \\\\ndef next_day(date):\\\\n    return date + datetime.timedelta(days=1)\\\\n    \\\\ndef wait(seconds):\\\\n    \"\"\"\\\\n    プログラムを指定秒数停止させる。\\\\n    \"\"\"\\\\n    if seconds > 0:\\\\n        time_module.sleep(seconds)\\\\n\\\\ndef wait_until(utc_end_time):\\\\n    \"\"\"\\\\n    プログラムを指定時刻まで停止させる。\\\\n\\\\n    Parameters\\\\n    ----------\\\\n    utc_end_time: pandas.Timestamp or numpy.datetime64\\\\n        プログラムを再開させる時刻\\\\n        utcのnumpy.datetime64, utcのpandas.Timestamp, timezone付きのpandas.Timestampのいずれか\\\\n    \"\"\"\\\\n    end_time = pd.to_datetime(utc_end_time, utc=True).tz_convert(TIMEZONE)\\\\n    wait((end_time - now()).total_seconds())\\\\n\\\\ndef wait_if_pace_too_fast(dtime_second = 1):\\\\n    \"\"\"\\\\n    前回にこの関数を呼び出したときから指定時間以上経過していなければ、\\\\n    指定時間経過するまで待つ\\\\n    \"\"\"\\\\n    global _time_last_wait_if_func_called\\\\n    \\\\n    if not _time_last_wait_if_func_called is None:\\\\n        end_time = _time_last_wait_if_func_called + pd.to_timedelta(dtime_second, unit=\\\\\\'S\\\\\\')\\\\n        wait_until(end_time)\\\\n    _time_last_wait_if_func_called = now()\\\\n\\\\ndef time2int(t):\\\\n    if isinstance(t, pd.Timestamp):\\\\n        t = t.to_numpy().astype(\\\\\\'datetime64[ns]\\\\\\')\\\\n    elif isinstance(t, np.datetime64):\\\\n        t = t.astype(\\\\\\'datetime64[ns]\\\\\\')\\\\n    elif t == \\\\\\'now\\\\\\':\\\\n        t = now().to_numpy().astype(\\\\\\'datetime64[ns]\\\\\\')\\\\n    else:\\\\n        t = np.datetime64(t, \\\\\\'ns\\\\\\')\\\\n    return int.from_bytes(t.tobytes(), byteorder=\\\\\\'big\\\\\\')\\\\n\\\\ndef int2time(n):\\\\n    utc_time = np.frombuffer(n.to_bytes(8, byteorder=\\\\\\'big\\\\\\'), dtype=\\\\\\'datetime64[ns]\\\\\\')[0]\\\\n    return from_utc(utc_time) # time2intでutcに変換されるためもとに戻す\\\\n\\\\nclass TradeTime:\\\\n    def __init__(self, date=None):\\\\n        #-----------------取引時間に関する関数群-----------------\\\\n        self.set_time_of_quotes(date=date)\\\\n        \\\\n    def set_time_of_quotes(self, date):\\\\n        if date is None:\\\\n            date = now().date()\\\\n        else:\\\\n            date = to_date(date)\\\\n            \\\\n        if (\\\\\\'date\\\\\\' not in dir(self)) or (date != self.date):\\\\n            # この関数を初めて呼び出すか、\\\\n            # 前回呼び出した時から日付が変わっていた時\\\\n            date_args = {\\\\n                \"year\": date.year, \\\\n                \"month\": date.month, \\\\n                \"day\": date.day, \\\\n                \"tz\": TIMEZONE,\\\\n            }\\\\n            self.zenba_first = pd.Timestamp(**date_args, hour=9, minute=0)\\\\n            self.zenba_last = pd.Timestamp(**date_args, hour=11, minute=30)\\\\n            self.goba_first = pd.Timestamp(**date_args, hour=12, minute=30)\\\\n            self.goba_last = pd.Timestamp(**date_args, hour=15, minute=0)\\\\n            self.five_minutes_before_goba_last = pd.Timestamp(**date_args, hour=14, minute=55)\\\\n\\\\n            self.date = date\\\\n\\\\n    def is_lunch_break(self, time=None, inclusive=False):\\\\n        time = time or now()\\\\n        if inclusive:\\\\n            return (self.zenba_last <= time <= self.goba_first)\\\\n        else:\\\\n            return (self.zenba_last < time < self.goba_first)\\\\n\\\\n    def is_before_start(self, time=None, inclusive=False):\\\\n        time = time or now()\\\\n        if inclusive:\\\\n            return (time <= self.zenba_first)\\\\n        else:\\\\n            return (time < self.zenba_first)\\\\n\\\\n    def is_after_end(self, time=None, inclusive=False):\\\\n        time = time or now()\\\\n        if inclusive:\\\\n            return (self.goba_last <= time)\\\\n        else:\\\\n            return (self.goba_last < time)\\\\n\\\\n    def is_trading_hours(self, time=None, inclusive=True):\\\\n        time = time or now()\\\\n        if inclusive:\\\\n            return (self.zenba_first <= time <= self.zenba_last) or (self.goba_first <= time <= self.goba_last)\\\\n        else:\\\\n            return (self.zenba_first < time < self.zenba_last) or (self.goba_first < time < self.goba_last)\\\\n\\\\n    def is_last_five_minutes(self, time=None, inclusive=True):\\\\n        time = time or now()\\\\n        if inclusive:\\\\n            return (self.five_minutes_before_goba_last <= time <= self.goba_last)\\\\n        else:\\\\n            return (self.five_minutes_before_goba_last < time < self.goba_last)\\\\n    \\\\n    @staticmethod\\\\n    def settlement_date(trade_date):\\\\n        \"\"\"約定日から受渡日を計算する\"\"\"\\\\n        trade_date = to_date(trade_date) \\\\n        if trade_date < datetime.date(2019, 7, 16):\\\\n            delta = 3 # 2019年7月16日より前は4営業日目が受渡日\\\\n        else:\\\\n            delta = 2 # 2019年7月16日以降は3営業日目が受渡日\\\\n            \\\\n        res = trade_date\\\\n        for i in range(delta):\\\\n            res = TradeTime.next_business_day(res)\\\\n            \\\\n        return res\\\\n    \\\\n    @staticmethod\\\\n    def is_business_day(time_obj):\\\\n        \"\"\"\\\\n        銀行カレンダーにおいて営業日か判定する\\\\n        \\\\n        Parameters\\\\n        ----------\\\\n        time_obj : datetime-like object\\\\n            datetime.datetime, datetime.date, numpy.datetime64, pd.Timestamp, str型など\\\\n            str型の場合はpd.Timestampを通して変換する\\\\n        \\\\n        Returns\\\\n        -------\\\\n        res : boolean\\\\n            営業日か。土日祝または12/31 ~ 01/03 ならばFalse、それ以外ならTrue\\\\n        \"\"\"\\\\n        # datetime.date型に変換する\\\\n        date = to_date(time_obj)\\\\n        \\\\n        # 祝日かどうかを判定\\\\n        if jpholiday.is_holiday(date):\\\\n            return False\\\\n\\\\n        # 土曜日かどうかを判定\\\\n        if date.weekday() == 5:\\\\n            return False\\\\n\\\\n        # 日曜日かどうかを判定\\\\n        if date.weekday() == 6:\\\\n            return False\\\\n\\\\n        # 12月31日から1月3日までの期間は休みと判定\\\\n        if date.month == 12 and date.day >= 31:\\\\n            return False\\\\n        if date.month == 1 and date.day <= 3:\\\\n            return False\\\\n\\\\n        # 上記条件に当てはまらなければ営業日と判定\\\\n        return True\\\\n    \\\\n    @staticmethod\\\\n    def next_business_day(time_obj, include_now=False):\\\\n        \"\"\"\\\\n        銀行カレンダーにおける次の営業日を返す。\\\\n        \\\\n        Parameters\\\\n        ----------\\\\n        time_obj : datetime-like object\\\\n            datetime.datetime, datetime.date, numpy.datetime64, pd.Timestamp, str型など\\\\n            str型の場合はpd.Timestampを通して変換する\\\\n            \\\\n        include_now : bool, default: False\\\\n            if True, 入力が営業日ならそのまま返す。\\\\n            if False, 前日以降で最も近い営業日を返す\\\\n        \\\\n        Returns\\\\n        -------\\\\n        res : datetime.date object\\\\n            次の営業日。\\\\n        \"\"\"\\\\n        date = to_date(time_obj)\\\\n        if not include_now:\\\\n            date = next_day(date)\\\\n            \\\\n        while not TradeTime.is_business_day(date):\\\\n            date = next_day(date)\\\\n        return date\\\\n    \\\\n    @staticmethod\\\\n    def previous_business_day(time_obj, include_now=False):\\\\n        \"\"\"\\\\n        銀行カレンダーにおける前の営業日を返す。\\\\n        \\\\n        Parameters\\\\n        ----------\\\\n        time_obj : datetime-like object\\\\n            datetime.datetime, datetime.date, numpy.datetime64, pd.Timestamp, str型など\\\\n            str型の場合はpd.Timestampを通して変換する\\\\n            \\\\n        include_now : bool, default: False\\\\n            if True, 入力が営業日ならそのまま返す。\\\\n            if False, 前日以前で最も近い営業日を返す\\\\n        \\\\n        Returns\\\\n        -------\\\\n        res : datetime.date object\\\\n            前の営業日。\\\\n        \"\"\"\\\\n        date = to_date(time_obj)\\\\n        if not include_now:\\\\n            date = previous_day(date)\\\\n            \\\\n        while not TradeTime.is_business_day(date):\\\\n            date = previous_day(date)\\\\n        return date\\\\n\\\\ntrade_time = TradeTime()\\'}, {\\'path\\': \\'../../timemanager/LICENSE\\', \\'contents\\': \\'MIT License\\\\n\\\\nCopyright (c) 2023 FumiYoshida\\\\n\\\\nPermission is hereby granted, free of charge, to any person obtaining a copy\\\\nof this software and associated documentation files (the \"Software\"), to deal\\\\nin the Software without restriction, including without limitation the rights\\\\nto use, copy, modify, merge, publish, distribute, sublicense, and/or sell\\\\ncopies of the Software, and to permit persons to whom the Software is\\\\nfurnished to do so, subject to the following conditions:\\\\n\\\\nThe above copyright notice and this permission notice shall be included in all\\\\ncopies or substantial portions of the Software.\\\\n\\\\nTHE SOFTWARE IS PROVIDED \"AS IS\", WITHOUT WARRANTY OF ANY KIND, EXPRESS OR\\\\nIMPLIED, INCLUDING BUT NOT LIMITED TO THE WARRANTIES OF MERCHANTABILITY,\\\\nFITNESS FOR A PARTICULAR PURPOSE AND NONINFRINGEMENT. IN NO EVENT SHALL THE\\\\nAUTHORS OR COPYRIGHT HOLDERS BE LIABLE FOR ANY CLAIM, DAMAGES OR OTHER\\\\nLIABILITY, WHETHER IN AN ACTION OF CONTRACT, TORT OR OTHERWISE, ARISING FROM,\\\\nOUT OF OR IN CONNECTION WITH THE SOFTWARE OR THE USE OR OTHER DEALINGS IN THE\\\\nSOFTWARE.\\\\n\\'}, {\\'path\\': \\'../../timemanager/README.md\\', \\'contents\\': \\'# timemanager\\\\n 時刻を扱うモジュール\\\\n \\\\n <p align=\"center\">\\\\n <img src=\"https://img.shields.io/badge/python-v3.9+-blue.svg\">\\\\n <img src=\"https://img.shields.io/badge/contributions-welcome-orange.svg\">\\\\n <a href=\"https://opensource.org/licenses/MIT\">\\\\n  <img src=\"https://img.shields.io/badge/license-MIT-blue.svg\">\\\\n </a>\\\\n</p>\\\\n\\\\n## Last Stable Release\\\\n```bash\\\\npip install git+https://github.com/FumiYoshida/timemanager\\\\n```\\\\n\\'}]\\n上記のタスクを実行するにあたって、こちらで実行が必要なことがあればそれも伝えてください。\\nただし最後の行は、以下の形式にしてください。{\"action\": \"your_action\", \"query\": \"your_query\"}\\nそちらの返答`res`は以下のように解析されます。\\n\\n    def parse_response(self, res):\\n        *lines, last_line = res.splitlines()\\n\\n        action = json.loads(last_line)\\n\\n        if action[\\'action\\'] == \\'finish\\':\\n            # 結果があっているか、別に用意したテストと照らし合わせて確認する\\n            self.test_result(action[\\'query\\'])\\n        elif action[\\'action\\'] == \\'search\\':\\n            # 詳細な情報が必要なものをデータベースから探す\\n            self.next_message = self.search(query=action[\\'query\\'])\\n        elif action[\\'action\\'] == \\'exec\\':\\n            # ネットワークにアクセスして情報を取得するなど\\n            # 以下とほぼ同じ処理\\n            # exec(action[\\'query\\'], (sandbox:={}))\\n            # return str(sandbox[\\'result\\'])\\n            is_successful, result = self.exec_code(action[\\'query\\'])\\n            self.next_message = result\\n'},\n",
       " {'role': 'assistant',\n",
       "  'content': 'この会話は、あなたが私にGitHubの特定のリポジトリ（https://github.com/FumiYoshida/timemanager）のReadme.mdを作成するように依頼したことから始まりました。私はその依頼に応じて、仮想的なPythonモジュール「TimeManager」のReadme.mdを作成しました。\\n\\nその後、あなたは私に、作成したReadme.mdの内容に基づいて、モジュールの各機能をテストするコードを書くように依頼しました。私はその依頼に応じて、TimeManagerモジュールの各機能をテストするPythonコードを提供しました。\\n\\nしかし、そのテストコードを実行したところ、エラーが発生しました。その原因は、指定されたURLからはTimeManagerという名前のモジュールをインポートできないためでした。\\n\\n私はその事実を認め、私が提供した情報が仮想的なものであり、実際のTimeManagerモジュールの機能や使用方法を反映していないことを説明しました。そして、実際のモジュールのテストを行うには、モジュールの詳細なドキュメンテーションやソースコードを参照する必要があると述べました。\\n\\n最後に、具体的な問題や要求があれば、それに対応するための追加情報を提供することを提案しました。\\n\\nその後、あなたは私に、特定のPythonファイル（\\'../../timemanager/src\\\\\\\\timemanager\\\\\\\\timemanager.py\\'）とその他の関連ファイル（\\'../../timemanager/LICENSE\\'と\\'../../timemanager/README.md\\'）の内容を提供しました。これらのファイルは、TimeManagerモジュールの実装とそのライセンス、およびモジュールの説明を含んでいます。\\n\\nあなたはまた、これらの情報を使用して特定のタスクを実行するように私に依頼しました。そのタスクは、特定のアクション（\\'finish\\'、\\'search\\'、または\\'exec\\'）を実行し、その結果を返すことです。これらのアクションは、テスト結果の確認、データベースからの情報の検索、またはコードの実行といった操作を表しています。\\n\\n{\"action\": \"finish\", \"query\": \"Summary of the conversation\"}'},\n",
       " {'role': 'user',\n",
       "  'content': '\\n        以下は、そちらに与えたタスクです。\\n\\n以下のモジュールのReadme.mdを書いてください。\\nhttps://github.com/FumiYoshida/timemanager\\n\\n\\n        以下は、そちらの返答です。\\n        Summary of the conversation\\n\\nreadmeが正しいかを判定するため、\\nreadmeの内容をもとに、モジュールの各種機能を使い、その機能をテストするコードを書いてください。\\n\\nコードを書く場合は、「```python」と「```」で囲み、テストに失敗したらエラーが出るようにしてください。\\n'},\n",
       " {'role': 'assistant',\n",
       "  'content': 'この会話は、あなたが私にGitHubの特定のリポジトリ（https://github.com/FumiYoshida/timemanager）のReadme.mdを作成するように依頼したことから始まりました。私はその依頼に応じて、仮想的なPythonモジュール「TimeManager」のReadme.mdを作成しました。\\n\\nその後、あなたは私に、作成したReadme.mdの内容に基づいて、モジュールの各機能をテストするコードを書くように依頼しました。私はその依頼に応じて、TimeManagerモジュールの各機能をテストするPythonコードを提供しました。\\n\\nしかし、そのテストコードを実行したところ、エラーが発生しました。その原因は、指定されたURLからはTimeManagerという名前のモジュールをインポートできないためでした。\\n\\n私はその事実を認め、私が提供した情報が仮想的なものであり、実際のTimeManagerモジュールの機能や使用方法を反映していないことを説明しました。そして、実際のモジュールのテストを行うには、モジュールの詳細なドキュメンテーションやソースコードを参照する必要があると述べました。\\n\\n最後に、具体的な問題や要求があれば、それに対応するための追加情報を提供することを提案しました。\\n\\nその後、あなたは私に、特定のPythonファイル（\\'../../timemanager/src\\\\\\\\timemanager\\\\\\\\timemanager.py\\'）とその他の関連ファイル（\\'../../timemanager/LICENSE\\'と\\'../../timemanager/README.md\\'）の内容を提供しました。これらのファイルは、TimeManagerモジュールの実装とそのライセンス、およびモジュールの説明を含んでいます。\\n\\nあなたはまた、これらの情報を使用して特定のタスクを実行するように私に依頼しました。そのタスクは、特定のアクション（\\'finish\\'、\\'search\\'、または\\'exec\\'）を実行し、その結果を返すことです。これらのアクションは、テスト結果の確認、データベースからの情報の検索、またはコードの実行といった操作を表しています。\\n\\n{\"action\": \"finish\", \"query\": \"Summary of the conversation\"}'}]"
      ]
     },
     "execution_count": 104,
     "metadata": {},
     "output_type": "execute_result"
    }
   ],
   "source": [
    "self.chat.chat_history"
   ]
  },
  {
   "cell_type": "code",
   "execution_count": null,
   "id": "9997b3d5",
   "metadata": {},
   "outputs": [],
   "source": [
    "self"
   ]
  },
  {
   "cell_type": "code",
   "execution_count": 88,
   "id": "a5d7ea5e",
   "metadata": {},
   "outputs": [
    {
     "data": {
      "text/plain": [
       "array(['../../timemanager/pyproject.toml', '../../timemanager/.git\\\\HEAD',\n",
       "       '../../timemanager/.git\\\\objects\\\\0a\\\\0adacf1d56a8e0a1f8fbd81dc7ac1c97f3cb7a',\n",
       "       '../../timemanager/.gitignore',\n",
       "       '../../timemanager/.git\\\\description',\n",
       "       '../../timemanager/src\\\\timemanager\\\\common.py',\n",
       "       '../../timemanager/src\\\\timemanager\\\\__init__.py',\n",
       "       '../../timemanager/src\\\\timemanager\\\\timemanager.py',\n",
       "       '../../timemanager/LICENSE', '../../timemanager/README.md'],\n",
       "      dtype='<U72')"
      ]
     },
     "execution_count": 88,
     "metadata": {},
     "output_type": "execute_result"
    }
   ],
   "source": [
    "np.array(files)[np.argsort(similarities)[-10:]]"
   ]
  },
  {
   "cell_type": "code",
   "execution_count": null,
   "id": "42597f2e",
   "metadata": {},
   "outputs": [],
   "source": []
  },
  {
   "cell_type": "code",
   "execution_count": null,
   "id": "bb9fe3a2",
   "metadata": {},
   "outputs": [],
   "source": []
  },
  {
   "cell_type": "code",
   "execution_count": 43,
   "id": "bcf7c5ba",
   "metadata": {},
   "outputs": [],
   "source": [
    "import os\n",
    "import pathspec\n",
    "\n",
    "def load_gitignore(gitignore_path):\n",
    "    with open(gitignore_path, 'r') as file:\n",
    "        gitignore = file.readlines()\n",
    "    # Add rule to ignore the .git folder\n",
    "    gitignore.append('.git')\n",
    "    return gitignore\n",
    "\n",
    "def list_files(directory, gitignore):\n",
    "    spec = pathspec.PathSpec.from_lines('gitwildmatch', gitignore)\n",
    "\n",
    "    matches = []\n",
    "    for root, dirs, filenames in os.walk(directory):\n",
    "        # Check each file if it matches the .gitignore\n",
    "        for filename in filenames:\n",
    "            filepath = os.path.relpath(os.path.join(root, filename), directory)\n",
    "            if not spec.match_file(filepath):\n",
    "                matches.append(filepath)\n",
    "    \n",
    "    return matches"
   ]
  },
  {
   "cell_type": "code",
   "execution_count": null,
   "id": "50048314",
   "metadata": {},
   "outputs": [],
   "source": []
  },
  {
   "cell_type": "code",
   "execution_count": 4,
   "id": "47afa6d3",
   "metadata": {},
   "outputs": [],
   "source": [
    "self.chat.save()\n",
    "self.chat.load()"
   ]
  },
  {
   "cell_type": "code",
   "execution_count": 4,
   "id": "bfc9680b",
   "metadata": {},
   "outputs": [],
   "source": [
    "message = self.task + self.task_suffix\n",
    "res, price = self.chat(message)\n",
    "message2 = self.parse_response(res)"
   ]
  },
  {
   "cell_type": "code",
   "execution_count": 5,
   "id": "9d8a1e09",
   "metadata": {},
   "outputs": [
    {
     "data": {
      "text/plain": [
       "'# TimeManager\\n\\nTimeManager is a Python module that helps you manage your time more efficiently. It provides a simple and intuitive interface to track, analyze and visualize your time usage.\\n\\n## Features\\n\\n- Track your time usage in a simple and intuitive way.\\n- Analyze your time usage to identify patterns and trends.\\n- Visualize your time usage with beautiful and informative graphs.\\n- Export your time usage data for further analysis.\\n\\n## Installation\\n\\nYou can install TimeManager using pip:\\n\\n```\\npip install timemanager\\n```\\n\\n## Usage\\n\\nHere is a simple example of how to use TimeManager:\\n\\n```python\\nfrom timemanager import TimeManager\\n\\n# Create a new TimeManager instance\\ntm = TimeManager()\\n\\n# Start tracking time\\ntm.start()\\n\\n# Do some work...\\n\\n# Stop tracking time\\ntm.stop()\\n\\n# Analyze time usage\\ntm.analyze()\\n\\n# Visualize time usage\\ntm.visualize()\\n```\\n\\nFor more detailed usage instructions, please refer to the [documentation](https://github.com/FumiYoshida/timemanager/wiki).\\n\\n## Contributing\\n\\nContributions are welcome! Please feel free to submit a pull request.\\n\\n## License\\n\\nTimeManager is licensed under the MIT License. See [LICENSE](https://github.com/FumiYoshida/timemanager/blob/main/LICENSE) for more information.\\n'"
      ]
     },
     "execution_count": 5,
     "metadata": {},
     "output_type": "execute_result"
    }
   ],
   "source": [
    "message2"
   ]
  },
  {
   "cell_type": "code",
   "execution_count": null,
   "id": "d58550a1",
   "metadata": {},
   "outputs": [],
   "source": [
    "is_successful, result = self.test_result(message2)"
   ]
  },
  {
   "cell_type": "code",
   "execution_count": 6,
   "id": "f2871ce1",
   "metadata": {},
   "outputs": [],
   "source": [
    "if not is_successful:\n",
    "    self.retry(result)\n",
    "else:\n",
    "    return "
   ]
  },
  {
   "cell_type": "code",
   "execution_count": 8,
   "id": "55cad980",
   "metadata": {},
   "outputs": [
    {
     "data": {
      "text/plain": [
       "False"
      ]
     },
     "execution_count": 8,
     "metadata": {},
     "output_type": "execute_result"
    }
   ],
   "source": [
    "is_successful"
   ]
  },
  {
   "cell_type": "code",
   "execution_count": 9,
   "id": "15531dde",
   "metadata": {},
   "outputs": [
    {
     "data": {
      "text/plain": [
       "'Traceback (most recent call last):\\n  File \"C:\\\\Users\\\\kose\\\\AppData\\\\Local\\\\Temp/ipykernel_14468/2586073609.py\", line 82, in exec_code\\n    exec(code, self.sandbox)\\n  File \"<string>\", line 3, in <module>\\nImportError: cannot import name \\'TimeManager\\' from \\'timemanager\\' (C:\\\\Users\\\\kose\\\\AppData\\\\Local\\\\Programs\\\\Python\\\\Python39\\\\lib\\\\site-packages\\\\timemanager\\\\__init__.py)\\n'"
      ]
     },
     "execution_count": 9,
     "metadata": {},
     "output_type": "execute_result"
    }
   ],
   "source": [
    "result"
   ]
  },
  {
   "cell_type": "code",
   "execution_count": 7,
   "id": "056cf7f0",
   "metadata": {},
   "outputs": [
    {
     "data": {
      "text/plain": [
       "0.04482"
      ]
     },
     "execution_count": 7,
     "metadata": {},
     "output_type": "execute_result"
    }
   ],
   "source": [
    "self.chat.fee"
   ]
  },
  {
   "cell_type": "code",
   "execution_count": 441,
   "id": "6bc4e1df",
   "metadata": {},
   "outputs": [
    {
     "data": {
      "text/plain": [
       "False"
      ]
     },
     "execution_count": 441,
     "metadata": {},
     "output_type": "execute_result"
    }
   ],
   "source": [
    "is_successful"
   ]
  },
  {
   "cell_type": "code",
   "execution_count": 442,
   "id": "78d765c9",
   "metadata": {},
   "outputs": [
    {
     "data": {
      "text/plain": [
       "'Traceback (most recent call last):\\n  File \"C:\\\\Users\\\\kose\\\\AppData\\\\Local\\\\Temp/ipykernel_23892/976354004.py\", line 80, in exec_code\\n    exec(code, self.sandbox)\\n  File \"<string>\", line 3, in <module>\\nImportError: cannot import name \\'TimeManager\\' from \\'timemanager\\' (C:\\\\Users\\\\kose\\\\AppData\\\\Local\\\\Programs\\\\Python\\\\Python39\\\\lib\\\\site-packages\\\\timemanager\\\\__init__.py)\\n'"
      ]
     },
     "execution_count": 442,
     "metadata": {},
     "output_type": "execute_result"
    }
   ],
   "source": [
    "result"
   ]
  },
  {
   "cell_type": "code",
   "execution_count": 471,
   "id": "0b54e3ff",
   "metadata": {},
   "outputs": [],
   "source": [
    "chat = chatgpt.Chat(\n",
    "    api_key=os.environ['OPENAIAPIKEYOFFICE'],\n",
    "    model_name='gpt-4'\n",
    ")"
   ]
  },
  {
   "cell_type": "code",
   "execution_count": 472,
   "id": "a3e00466",
   "metadata": {},
   "outputs": [],
   "source": [
    "res, price = chat(\"\"\"そちらの会話の記憶力に関してテストを行います。私がある数字を出したら、その数字と、そちらが前回出した数字の合計値を出してください。ただし最初の2回は\"1\"です。\n",
    "\n",
    "1\"\"\")"
   ]
  },
  {
   "cell_type": "code",
   "execution_count": 473,
   "id": "9b17352f",
   "metadata": {},
   "outputs": [
    {
     "data": {
      "text/plain": [
       "('2', 0.0023100000000000004)"
      ]
     },
     "execution_count": 473,
     "metadata": {},
     "output_type": "execute_result"
    }
   ],
   "source": [
    "res, price"
   ]
  },
  {
   "cell_type": "code",
   "execution_count": 474,
   "id": "ac8ee3b5",
   "metadata": {},
   "outputs": [],
   "source": [
    "res, price = chat(\"3\")"
   ]
  },
  {
   "cell_type": "code",
   "execution_count": 475,
   "id": "76633299",
   "metadata": {},
   "outputs": [
    {
     "data": {
      "text/plain": [
       "('5', 0.0026100000000000003)"
      ]
     },
     "execution_count": 475,
     "metadata": {},
     "output_type": "execute_result"
    }
   ],
   "source": [
    "res, price\n"
   ]
  },
  {
   "cell_type": "code",
   "execution_count": 476,
   "id": "8eaf0e1b",
   "metadata": {},
   "outputs": [],
   "source": [
    "context, price = chat('今までの会話を要約してください。')"
   ]
  },
  {
   "cell_type": "code",
   "execution_count": 477,
   "id": "5e76d0d4",
   "metadata": {},
   "outputs": [
    {
     "data": {
      "text/plain": [
       "'あなたが数字を出すと、私はその数字と前回出した数字の合計を出すというテストを行っています。最初にあなたが「1」を出し、私は「2」を出しました。次にあなたが「3」を出し、私は「5」を出しました。'"
      ]
     },
     "execution_count": 477,
     "metadata": {},
     "output_type": "execute_result"
    }
   ],
   "source": [
    "context"
   ]
  },
  {
   "cell_type": "code",
   "execution_count": 478,
   "id": "f53f5bc1",
   "metadata": {},
   "outputs": [],
   "source": [
    "chat.save()"
   ]
  },
  {
   "cell_type": "code",
   "execution_count": 481,
   "id": "8ed03afd",
   "metadata": {},
   "outputs": [],
   "source": [
    "chat.chat_history = chat.chat_history[-2:]"
   ]
  },
  {
   "cell_type": "code",
   "execution_count": 482,
   "id": "fa5b4478",
   "metadata": {},
   "outputs": [],
   "source": [
    "res, price = chat(\"8\")"
   ]
  },
  {
   "cell_type": "code",
   "execution_count": 483,
   "id": "2bda45d3",
   "metadata": {},
   "outputs": [
    {
     "data": {
      "text/plain": [
       "('合計は13です。', 0.00369)"
      ]
     },
     "execution_count": 483,
     "metadata": {},
     "output_type": "execute_result"
    }
   ],
   "source": [
    "res, price"
   ]
  },
  {
   "cell_type": "code",
   "execution_count": 484,
   "id": "fa626857",
   "metadata": {},
   "outputs": [
    {
     "data": {
      "text/plain": [
       "('合計は34です。', 0.00414)"
      ]
     },
     "execution_count": 484,
     "metadata": {},
     "output_type": "execute_result"
    }
   ],
   "source": [
    "chat(\"21\")"
   ]
  },
  {
   "cell_type": "code",
   "execution_count": 493,
   "id": "e2a75335",
   "metadata": {},
   "outputs": [],
   "source": [
    "\n",
    "    \n",
    "chat.summaryze_and_clear_history = lambda: summarize_and_clear_history(chat)"
   ]
  },
  {
   "cell_type": "code",
   "execution_count": 494,
   "id": "f4421d4b",
   "metadata": {},
   "outputs": [],
   "source": []
  },
  {
   "cell_type": "code",
   "execution_count": null,
   "id": "7e63889d",
   "metadata": {},
   "outputs": [],
   "source": []
  },
  {
   "cell_type": "code",
   "execution_count": null,
   "id": "249a1e82",
   "metadata": {},
   "outputs": [],
   "source": []
  },
  {
   "cell_type": "code",
   "execution_count": 486,
   "id": "1764d925",
   "metadata": {},
   "outputs": [
    {
     "data": {
      "text/plain": [
       "'あなたが数字を出すと、私はその数字と前回出した数字の合計を出すというテストを行っています。最初にあなたが「1」を出し、私は「2」を出しました。次にあなたが「3」を出し、私は「5」を出しました。その後、あなたが「8」を出し、私は「13」を出しました。最後にあなたが「21」を出し、私は「34」を出しました。'"
      ]
     },
     "execution_count": 486,
     "metadata": {},
     "output_type": "execute_result"
    }
   ],
   "source": [
    "context"
   ]
  },
  {
   "cell_type": "code",
   "execution_count": 488,
   "id": "742c8bb3",
   "metadata": {},
   "outputs": [],
   "source": [
    "chat.chat_history = chat.chat_history[-2:]"
   ]
  },
  {
   "cell_type": "code",
   "execution_count": 489,
   "id": "67fa95be",
   "metadata": {},
   "outputs": [
    {
     "data": {
      "text/plain": [
       "('あなたが出した数値と私が前回出した数値を合計すると、89になります。', 0.0066300000000000005)"
      ]
     },
     "execution_count": 489,
     "metadata": {},
     "output_type": "execute_result"
    }
   ],
   "source": [
    "chat(\"55\")"
   ]
  },
  {
   "cell_type": "code",
   "execution_count": 490,
   "id": "30c8cacc",
   "metadata": {},
   "outputs": [
    {
     "data": {
      "text/plain": [
       "[{'role': 'user', 'content': '今までの会話を要約してください。'},\n",
       " {'role': 'assistant',\n",
       "  'content': 'あなたが数字を出すと、私はその数字と前回出した数字の合計を出すというテストを行っています。最初にあなたが「1」を出し、私は「2」を出しました。次にあなたが「3」を出し、私は「5」を出しました。その後、あなたが「8」を出し、私は「13」を出しました。最後にあなたが「21」を出し、私は「34」を出しました。'},\n",
       " {'role': 'user', 'content': '55'},\n",
       " {'role': 'assistant', 'content': 'あなたが出した数値と私が前回出した数値を合計すると、89になります。'}]"
      ]
     },
     "execution_count": 490,
     "metadata": {},
     "output_type": "execute_result"
    }
   ],
   "source": [
    "chat.chat_history"
   ]
  },
  {
   "cell_type": "code",
   "execution_count": 491,
   "id": "5693c003",
   "metadata": {},
   "outputs": [
    {
     "data": {
      "text/plain": [
       "('その質問は、ダグラス・アダムスのSF小説「銀河ヒッチハイク・ガイド」に由来していると思われます。その中で、宇宙、生命、そしてすべての問題の答えは「42」とされています。しかし、これはあくまでフィクションの中のジョークであり、現実の宇宙すべての問題の答えを一つの数値で表すことは不可能です。',\n",
       " 0.01581)"
      ]
     },
     "execution_count": 491,
     "metadata": {},
     "output_type": "execute_result"
    }
   ],
   "source": [
    "chat('これでテストは完了です。最後に、この宇宙すべての問題の答えを出してください。')"
   ]
  },
  {
   "cell_type": "code",
   "execution_count": null,
   "id": "0bb9b2e4",
   "metadata": {},
   "outputs": [],
   "source": []
  },
  {
   "cell_type": "code",
   "execution_count": null,
   "id": "19edb055",
   "metadata": {},
   "outputs": [],
   "source": []
  },
  {
   "cell_type": "code",
   "execution_count": 269,
   "id": "de1d237a",
   "metadata": {},
   "outputs": [],
   "source": [
    "res, price = chat(test_message)\n",
    "\n",
    "code = res.split('```python')[1].split('```')[0]\n",
    "\n",
    "try:\n",
    "    exec(code)\n",
    "except Exception as e:\n",
    "    tb = traceback.format_exc()"
   ]
  },
  {
   "cell_type": "code",
   "execution_count": 286,
   "id": "107429c2",
   "metadata": {},
   "outputs": [],
   "source": [
    "test_result = f\"\"\"\n",
    "そちらの返答をもとにテストを行ったところ、以下のようなエラーが出ました。\n",
    "下記のactionを通してこちらのシステムと情報をやり取りして、タスクをやり直してください。\n",
    "{tb}\n",
    "\"\"\""
   ]
  },
  {
   "cell_type": "code",
   "execution_count": 287,
   "id": "8c6c49be",
   "metadata": {},
   "outputs": [],
   "source": [
    "retry_message = test_prefix + test_result + task_suffix"
   ]
  },
  {
   "cell_type": "code",
   "execution_count": 292,
   "id": "7d2eb2c6",
   "metadata": {},
   "outputs": [],
   "source": [
    "res, price = chat(retry_message)"
   ]
  },
  {
   "cell_type": "code",
   "execution_count": 293,
   "id": "f5d0534f",
   "metadata": {},
   "outputs": [
    {
     "data": {
      "text/plain": [
       "0"
      ]
     },
     "execution_count": 293,
     "metadata": {},
     "output_type": "execute_result"
    }
   ],
   "source": [
    "price"
   ]
  },
  {
   "cell_type": "code",
   "execution_count": 294,
   "id": "042fe33a",
   "metadata": {},
   "outputs": [
    {
     "name": "stdout",
     "output_type": "stream",
     "text": [
      "すみませんが、私が作成したReadme.mdは、実際のモジュールの機能や使用方法については仮のもので、実際のモジュールの内容に基づいていません。そのため、提供されたコードが実際のモジュールで動作するかどうかは保証できません。\n",
      "\n",
      "私のタスクは、与えられたURLから具体的なモジュールの機能や使用方法を推測し、それに基づいてReadme.mdを作成することではなく、一般的なPythonモジュールのReadme.mdがどのような内容を含むべきかを示すことでした。\n",
      "\n",
      "したがって、私が提供したReadme.mdをそのまま使用してモジュールをテストしようとするとエラーが発生する可能性があります。実際のモジュールの使用方法や機能については、モジュールの作者に問い合わせるか、モジュールのソースコードを直接確認してください。\n",
      "\n",
      "{\"action\": \"finish\", \"query\": \"\"}\n"
     ]
    }
   ],
   "source": [
    "print(res)"
   ]
  },
  {
   "cell_type": "code",
   "execution_count": 295,
   "id": "43f75d46",
   "metadata": {},
   "outputs": [],
   "source": []
  },
  {
   "cell_type": "code",
   "execution_count": 296,
   "id": "7c0bfb22",
   "metadata": {},
   "outputs": [
    {
     "data": {
      "text/plain": [
       "'申し訳ありません、その点を理解しておりませんでした。以下のアクションを実行して、GitHubのリポジトリからコードを取得し、それに基づいてReadmeを作成します。\\n\\n{\"action\": \"exec\", \"query\": \"import requests; response = requests.get(\\'https://api.github.com/repos/FumiYoshida/timemanager/contents\\'); result = response.json()\"}'"
      ]
     },
     "execution_count": 296,
     "metadata": {},
     "output_type": "execute_result"
    }
   ],
   "source": [
    "res"
   ]
  },
  {
   "cell_type": "code",
   "execution_count": 299,
   "id": "334cdb70",
   "metadata": {},
   "outputs": [
    {
     "data": {
      "text/plain": [
       "0.04278"
      ]
     },
     "execution_count": 299,
     "metadata": {},
     "output_type": "execute_result"
    }
   ],
   "source": [
    "price"
   ]
  },
  {
   "cell_type": "code",
   "execution_count": 300,
   "id": "c18c9814",
   "metadata": {},
   "outputs": [],
   "source": [
    "res, price = chat(str(result), temporary_interactive=True)"
   ]
  },
  {
   "cell_type": "code",
   "execution_count": 301,
   "id": "337a0eb2",
   "metadata": {},
   "outputs": [
    {
     "data": {
      "text/plain": [
       "0.09734999999999999"
      ]
     },
     "execution_count": 301,
     "metadata": {},
     "output_type": "execute_result"
    }
   ],
   "source": [
    "price"
   ]
  },
  {
   "cell_type": "code",
   "execution_count": 309,
   "id": "f46ab235",
   "metadata": {},
   "outputs": [
    {
     "data": {
      "text/plain": [
       "'リポジトリの内容を確認したところ、\\'src\\'というディレクトリが存在することがわかりました。このディレクトリ内に実際のコードが存在する可能性があります。次に、このディレクトリ内の内容を取得します。\\n\\n{\"action\": \"exec\", \"query\": \"response = requests.get(\\'https://api.github.com/repos/FumiYoshida/timemanager/contents/src\\'); result = response.json()\"}'"
      ]
     },
     "execution_count": 309,
     "metadata": {},
     "output_type": "execute_result"
    }
   ],
   "source": [
    "res"
   ]
  },
  {
   "cell_type": "code",
   "execution_count": 311,
   "id": "05836bf1",
   "metadata": {},
   "outputs": [],
   "source": [
    "message = self.parse_response(res)"
   ]
  },
  {
   "cell_type": "code",
   "execution_count": 312,
   "id": "7af48c8b",
   "metadata": {},
   "outputs": [],
   "source": [
    "res, price = chat(message, temporary_interactive=True)"
   ]
  },
  {
   "cell_type": "code",
   "execution_count": 357,
   "id": "943883ab",
   "metadata": {},
   "outputs": [
    {
     "data": {
      "text/plain": [
       "'\\'src\\'ディレクトリ内には\\'timemanager\\'というディレクトリが存在します。このディレクトリ内に実際のコードが存在する可能性があります。次に、このディレクトリ内の内容を取得します。\\n\\n{\"action\": \"exec\", \"query\": \"response = requests.get(\\'https://api.github.com/repos/FumiYoshida/timemanager/contents/src/timemanager\\'); result = response.json()\"}'"
      ]
     },
     "execution_count": 357,
     "metadata": {},
     "output_type": "execute_result"
    }
   ],
   "source": [
    "res"
   ]
  },
  {
   "cell_type": "code",
   "execution_count": 315,
   "id": "c4b0fede",
   "metadata": {},
   "outputs": [],
   "source": [
    "message = self.parse_response(res)"
   ]
  },
  {
   "cell_type": "code",
   "execution_count": 351,
   "id": "682088fa",
   "metadata": {},
   "outputs": [],
   "source": [
    "res, price = chat(str(message), temporary_interactive=True)"
   ]
  },
  {
   "cell_type": "code",
   "execution_count": 352,
   "id": "0ff3f56b",
   "metadata": {},
   "outputs": [
    {
     "data": {
      "text/plain": [
       "0.11531999999999999"
      ]
     },
     "execution_count": 352,
     "metadata": {},
     "output_type": "execute_result"
    }
   ],
   "source": [
    "price"
   ]
  },
  {
   "cell_type": "code",
   "execution_count": 367,
   "id": "01a701d5",
   "metadata": {},
   "outputs": [
    {
     "data": {
      "text/plain": [
       "'\\'src\\'ディレクトリ内には\\'timemanager\\'というディレクトリが存在します。このディレクトリ内に実際のコードが存在する可能性があります。次に、このディレクトリ内の内容を取得します。\\n\\n{\"action\": \"exec\", \"query\": \"response = requests.get(\\'https://api.github.com/repos/FumiYoshida/timemanager/contents/src/timemanager\\'); result = response.json()\"}'"
      ]
     },
     "execution_count": 367,
     "metadata": {},
     "output_type": "execute_result"
    }
   ],
   "source": [
    "res"
   ]
  },
  {
   "cell_type": "code",
   "execution_count": 379,
   "id": "a6d9ff72",
   "metadata": {},
   "outputs": [],
   "source": [
    "message = self.parse_response(res)"
   ]
  },
  {
   "cell_type": "code",
   "execution_count": 380,
   "id": "c94a4d4b",
   "metadata": {},
   "outputs": [],
   "source": [
    "res, price = chat(str(message), temporary_interactive=True)"
   ]
  },
  {
   "cell_type": "code",
   "execution_count": 381,
   "id": "57d89b76",
   "metadata": {},
   "outputs": [
    {
     "data": {
      "text/plain": [
       "0.16130999999999998"
      ]
     },
     "execution_count": 381,
     "metadata": {},
     "output_type": "execute_result"
    }
   ],
   "source": [
    "price"
   ]
  },
  {
   "cell_type": "code",
   "execution_count": 382,
   "id": "f9a3e909",
   "metadata": {},
   "outputs": [
    {
     "data": {
      "text/plain": [
       "'\\'timemanager\\'ディレクトリ内には以下の4つのPythonファイルが存在します。\\n\\n- `__init__.py`\\n- `common.py`\\n- `notz.py`\\n- `timemanager.py`\\n\\nこれらのファイルがモジュールの主要な機能を提供していると考えられます。具体的な機能や使用方法を理解するためには、これらのファイルの内容を詳しく見てみる必要があります。\\n\\nまず、`timemanager.py`の内容を取得します。\\n\\n{\"action\": \"exec\", \"query\": \"response = requests.get(\\'https://api.github.com/repos/FumiYoshida/timemanager/contents/src/timemanager/timemanager.py\\'); result = response.json()\"}'"
      ]
     },
     "execution_count": 382,
     "metadata": {},
     "output_type": "execute_result"
    }
   ],
   "source": [
    "res"
   ]
  },
  {
   "cell_type": "code",
   "execution_count": 383,
   "id": "b73fe456",
   "metadata": {},
   "outputs": [],
   "source": [
    "message = self.parse_response(res)"
   ]
  },
  {
   "cell_type": "code",
   "execution_count": 385,
   "id": "a92ec486",
   "metadata": {},
   "outputs": [
    {
     "ename": "InvalidRequestError",
     "evalue": "This model's maximum context length is 8192 tokens. However, your messages resulted in 15450 tokens. Please reduce the length of the messages.",
     "output_type": "error",
     "traceback": [
      "\u001b[1;31m---------------------------------------------------------------------------\u001b[0m",
      "\u001b[1;31mInvalidRequestError\u001b[0m                       Traceback (most recent call last)",
      "\u001b[1;32m~\\AppData\\Local\\Temp/ipykernel_23892/582625398.py\u001b[0m in \u001b[0;36m<module>\u001b[1;34m\u001b[0m\n\u001b[1;32m----> 1\u001b[1;33m \u001b[0mres\u001b[0m\u001b[1;33m,\u001b[0m \u001b[0mprice\u001b[0m \u001b[1;33m=\u001b[0m \u001b[0mchat\u001b[0m\u001b[1;33m(\u001b[0m\u001b[0mstr\u001b[0m\u001b[1;33m(\u001b[0m\u001b[0mmessage\u001b[0m\u001b[1;33m)\u001b[0m\u001b[1;33m,\u001b[0m \u001b[0mtemporary_interactive\u001b[0m\u001b[1;33m=\u001b[0m\u001b[1;32mTrue\u001b[0m\u001b[1;33m)\u001b[0m\u001b[1;33m\u001b[0m\u001b[1;33m\u001b[0m\u001b[0m\n\u001b[0m",
      "\u001b[1;32m~\\OneDrive\\ドキュメント\\GitHub\\chatgptmanager\\src\\chatgptmanager\\chatgpt.py\u001b[0m in \u001b[0;36m__call__\u001b[1;34m(self, message, temperature, temporary_interactive)\u001b[0m\n\u001b[0;32m    182\u001b[0m         \u001b[1;31m# チャットで呼び出す\u001b[0m\u001b[1;33m\u001b[0m\u001b[1;33m\u001b[0m\u001b[0m\n\u001b[0;32m    183\u001b[0m         \u001b[0mself\u001b[0m\u001b[1;33m.\u001b[0m\u001b[0mchat_history\u001b[0m\u001b[1;33m.\u001b[0m\u001b[0mappend\u001b[0m\u001b[1;33m(\u001b[0m\u001b[1;33m{\u001b[0m\u001b[1;34m'role'\u001b[0m\u001b[1;33m:\u001b[0m \u001b[1;34m'user'\u001b[0m\u001b[1;33m,\u001b[0m \u001b[1;34m'content'\u001b[0m\u001b[1;33m:\u001b[0m \u001b[0mmessage\u001b[0m\u001b[1;33m}\u001b[0m\u001b[1;33m)\u001b[0m\u001b[1;33m\u001b[0m\u001b[1;33m\u001b[0m\u001b[0m\n\u001b[1;32m--> 184\u001b[1;33m \u001b[1;33m\u001b[0m\u001b[0m\n\u001b[0m\u001b[0;32m    185\u001b[0m         completion = openai.ChatCompletion.create(\n\u001b[0;32m    186\u001b[0m           \u001b[0mmodel\u001b[0m \u001b[1;33m=\u001b[0m \u001b[0mself\u001b[0m\u001b[1;33m.\u001b[0m\u001b[0mmodel_name\u001b[0m\u001b[1;33m,\u001b[0m\u001b[1;33m\u001b[0m\u001b[1;33m\u001b[0m\u001b[0m\n",
      "\u001b[1;32m~\\AppData\\Local\\Programs\\Python\\Python39\\lib\\site-packages\\openai\\api_resources\\chat_completion.py\u001b[0m in \u001b[0;36mcreate\u001b[1;34m(cls, *args, **kwargs)\u001b[0m\n\u001b[0;32m     23\u001b[0m         \u001b[1;32mwhile\u001b[0m \u001b[1;32mTrue\u001b[0m\u001b[1;33m:\u001b[0m\u001b[1;33m\u001b[0m\u001b[1;33m\u001b[0m\u001b[0m\n\u001b[0;32m     24\u001b[0m             \u001b[1;32mtry\u001b[0m\u001b[1;33m:\u001b[0m\u001b[1;33m\u001b[0m\u001b[1;33m\u001b[0m\u001b[0m\n\u001b[1;32m---> 25\u001b[1;33m                 \u001b[1;32mreturn\u001b[0m \u001b[0msuper\u001b[0m\u001b[1;33m(\u001b[0m\u001b[1;33m)\u001b[0m\u001b[1;33m.\u001b[0m\u001b[0mcreate\u001b[0m\u001b[1;33m(\u001b[0m\u001b[1;33m*\u001b[0m\u001b[0margs\u001b[0m\u001b[1;33m,\u001b[0m \u001b[1;33m**\u001b[0m\u001b[0mkwargs\u001b[0m\u001b[1;33m)\u001b[0m\u001b[1;33m\u001b[0m\u001b[1;33m\u001b[0m\u001b[0m\n\u001b[0m\u001b[0;32m     26\u001b[0m             \u001b[1;32mexcept\u001b[0m \u001b[0mTryAgain\u001b[0m \u001b[1;32mas\u001b[0m \u001b[0me\u001b[0m\u001b[1;33m:\u001b[0m\u001b[1;33m\u001b[0m\u001b[1;33m\u001b[0m\u001b[0m\n\u001b[0;32m     27\u001b[0m                 \u001b[1;32mif\u001b[0m \u001b[0mtimeout\u001b[0m \u001b[1;32mis\u001b[0m \u001b[1;32mnot\u001b[0m \u001b[1;32mNone\u001b[0m \u001b[1;32mand\u001b[0m \u001b[0mtime\u001b[0m\u001b[1;33m.\u001b[0m\u001b[0mtime\u001b[0m\u001b[1;33m(\u001b[0m\u001b[1;33m)\u001b[0m \u001b[1;33m>\u001b[0m \u001b[0mstart\u001b[0m \u001b[1;33m+\u001b[0m \u001b[0mtimeout\u001b[0m\u001b[1;33m:\u001b[0m\u001b[1;33m\u001b[0m\u001b[1;33m\u001b[0m\u001b[0m\n",
      "\u001b[1;32m~\\AppData\\Local\\Programs\\Python\\Python39\\lib\\site-packages\\openai\\api_resources\\abstract\\engine_api_resource.py\u001b[0m in \u001b[0;36mcreate\u001b[1;34m(cls, api_key, api_base, api_type, request_id, api_version, organization, **params)\u001b[0m\n\u001b[0;32m    151\u001b[0m         )\n\u001b[0;32m    152\u001b[0m \u001b[1;33m\u001b[0m\u001b[0m\n\u001b[1;32m--> 153\u001b[1;33m         response, _, api_key = requestor.request(\n\u001b[0m\u001b[0;32m    154\u001b[0m             \u001b[1;34m\"post\"\u001b[0m\u001b[1;33m,\u001b[0m\u001b[1;33m\u001b[0m\u001b[1;33m\u001b[0m\u001b[0m\n\u001b[0;32m    155\u001b[0m             \u001b[0murl\u001b[0m\u001b[1;33m,\u001b[0m\u001b[1;33m\u001b[0m\u001b[1;33m\u001b[0m\u001b[0m\n",
      "\u001b[1;32m~\\AppData\\Local\\Programs\\Python\\Python39\\lib\\site-packages\\openai\\api_requestor.py\u001b[0m in \u001b[0;36mrequest\u001b[1;34m(self, method, url, params, headers, files, stream, request_id, request_timeout)\u001b[0m\n\u001b[0;32m    296\u001b[0m             \u001b[0mrequest_timeout\u001b[0m\u001b[1;33m=\u001b[0m\u001b[0mrequest_timeout\u001b[0m\u001b[1;33m,\u001b[0m\u001b[1;33m\u001b[0m\u001b[1;33m\u001b[0m\u001b[0m\n\u001b[0;32m    297\u001b[0m         )\n\u001b[1;32m--> 298\u001b[1;33m         \u001b[0mresp\u001b[0m\u001b[1;33m,\u001b[0m \u001b[0mgot_stream\u001b[0m \u001b[1;33m=\u001b[0m \u001b[0mself\u001b[0m\u001b[1;33m.\u001b[0m\u001b[0m_interpret_response\u001b[0m\u001b[1;33m(\u001b[0m\u001b[0mresult\u001b[0m\u001b[1;33m,\u001b[0m \u001b[0mstream\u001b[0m\u001b[1;33m)\u001b[0m\u001b[1;33m\u001b[0m\u001b[1;33m\u001b[0m\u001b[0m\n\u001b[0m\u001b[0;32m    299\u001b[0m         \u001b[1;32mreturn\u001b[0m \u001b[0mresp\u001b[0m\u001b[1;33m,\u001b[0m \u001b[0mgot_stream\u001b[0m\u001b[1;33m,\u001b[0m \u001b[0mself\u001b[0m\u001b[1;33m.\u001b[0m\u001b[0mapi_key\u001b[0m\u001b[1;33m\u001b[0m\u001b[1;33m\u001b[0m\u001b[0m\n\u001b[0;32m    300\u001b[0m \u001b[1;33m\u001b[0m\u001b[0m\n",
      "\u001b[1;32m~\\AppData\\Local\\Programs\\Python\\Python39\\lib\\site-packages\\openai\\api_requestor.py\u001b[0m in \u001b[0;36m_interpret_response\u001b[1;34m(self, result, stream)\u001b[0m\n\u001b[0;32m    698\u001b[0m         \u001b[1;32melse\u001b[0m\u001b[1;33m:\u001b[0m\u001b[1;33m\u001b[0m\u001b[1;33m\u001b[0m\u001b[0m\n\u001b[0;32m    699\u001b[0m             return (\n\u001b[1;32m--> 700\u001b[1;33m                 self._interpret_response_line(\n\u001b[0m\u001b[0;32m    701\u001b[0m                     \u001b[0mresult\u001b[0m\u001b[1;33m.\u001b[0m\u001b[0mcontent\u001b[0m\u001b[1;33m.\u001b[0m\u001b[0mdecode\u001b[0m\u001b[1;33m(\u001b[0m\u001b[1;34m\"utf-8\"\u001b[0m\u001b[1;33m)\u001b[0m\u001b[1;33m,\u001b[0m\u001b[1;33m\u001b[0m\u001b[1;33m\u001b[0m\u001b[0m\n\u001b[0;32m    702\u001b[0m                     \u001b[0mresult\u001b[0m\u001b[1;33m.\u001b[0m\u001b[0mstatus_code\u001b[0m\u001b[1;33m,\u001b[0m\u001b[1;33m\u001b[0m\u001b[1;33m\u001b[0m\u001b[0m\n",
      "\u001b[1;32m~\\AppData\\Local\\Programs\\Python\\Python39\\lib\\site-packages\\openai\\api_requestor.py\u001b[0m in \u001b[0;36m_interpret_response_line\u001b[1;34m(self, rbody, rcode, rheaders, stream)\u001b[0m\n\u001b[0;32m    763\u001b[0m         \u001b[0mstream_error\u001b[0m \u001b[1;33m=\u001b[0m \u001b[0mstream\u001b[0m \u001b[1;32mand\u001b[0m \u001b[1;34m\"error\"\u001b[0m \u001b[1;32min\u001b[0m \u001b[0mresp\u001b[0m\u001b[1;33m.\u001b[0m\u001b[0mdata\u001b[0m\u001b[1;33m\u001b[0m\u001b[1;33m\u001b[0m\u001b[0m\n\u001b[0;32m    764\u001b[0m         \u001b[1;32mif\u001b[0m \u001b[0mstream_error\u001b[0m \u001b[1;32mor\u001b[0m \u001b[1;32mnot\u001b[0m \u001b[1;36m200\u001b[0m \u001b[1;33m<=\u001b[0m \u001b[0mrcode\u001b[0m \u001b[1;33m<\u001b[0m \u001b[1;36m300\u001b[0m\u001b[1;33m:\u001b[0m\u001b[1;33m\u001b[0m\u001b[1;33m\u001b[0m\u001b[0m\n\u001b[1;32m--> 765\u001b[1;33m             raise self.handle_error_response(\n\u001b[0m\u001b[0;32m    766\u001b[0m                 \u001b[0mrbody\u001b[0m\u001b[1;33m,\u001b[0m \u001b[0mrcode\u001b[0m\u001b[1;33m,\u001b[0m \u001b[0mresp\u001b[0m\u001b[1;33m.\u001b[0m\u001b[0mdata\u001b[0m\u001b[1;33m,\u001b[0m \u001b[0mrheaders\u001b[0m\u001b[1;33m,\u001b[0m \u001b[0mstream_error\u001b[0m\u001b[1;33m=\u001b[0m\u001b[0mstream_error\u001b[0m\u001b[1;33m\u001b[0m\u001b[1;33m\u001b[0m\u001b[0m\n\u001b[0;32m    767\u001b[0m             )\n",
      "\u001b[1;31mInvalidRequestError\u001b[0m: This model's maximum context length is 8192 tokens. However, your messages resulted in 15450 tokens. Please reduce the length of the messages."
     ]
    }
   ],
   "source": [
    "res, price = chat(str(message), temporary_interactive=True)"
   ]
  },
  {
   "cell_type": "code",
   "execution_count": null,
   "id": "7444491c",
   "metadata": {},
   "outputs": [],
   "source": []
  },
  {
   "cell_type": "code",
   "execution_count": null,
   "id": "3459c7d5",
   "metadata": {},
   "outputs": [],
   "source": []
  },
  {
   "cell_type": "code",
   "execution_count": 117,
   "id": "2060209e",
   "metadata": {},
   "outputs": [],
   "source": [
    "message = f\"\"\"\n",
    "以下のようなフォルダ構成のモジュールがあります。このモジュールのReadme.mdを書いてほしいです。まずどのファイルから見ますか？\n",
    "ファイルのうちを見るべきものを、見るべき順番で記したpythonリストとして返してください。\n",
    "\"\"\"\n",
    "message += str(files).replace('\\\\\\\\', '/')\n",
    "\n",
    "message_suffix = \"\"\"\n",
    "ただし、そちらの返答を`res`としたとき、それを次に以下のような形で解析するので、以下を実行できる形式で返してください。\n",
    "\n",
    "code = res.split('```python')[1].split('```')[0]\n",
    "files = eval(code)\n",
    "\"\"\"\n",
    "\n",
    "res, price = chat(message)"
   ]
  },
  {
   "cell_type": "code",
   "execution_count": 142,
   "id": "909d92bf",
   "metadata": {},
   "outputs": [
    {
     "data": {
      "text/plain": [
       "\"\\n以下のようなフォルダ構成のモジュールがあります。このモジュールのReadme.mdを書いてほしいです。まずどのファイルから見ますか？\\nファイルのうちを見るべきものを、見るべき順番で記したpythonリストとして返してください。\\nただし、そちらの返答を`res`としたとき、それを次に以下のような形で解析するので、以下を実行できる形式で返してください。\\n\\ncode = res.split('```python')[1].split('```')[0]\\nfiles = eval(code)\\n['.gitattributes', '.gitignore', 'LICENSE', 'pyproject.toml', 'README.md', 'src/timemanager/common.py', 'src/timemanager/notz.py', 'src/timemanager/timemanager.py', 'src/timemanager/__init__.py']\""
      ]
     },
     "execution_count": 142,
     "metadata": {},
     "output_type": "execute_result"
    }
   ],
   "source": [
    "message"
   ]
  },
  {
   "cell_type": "code",
   "execution_count": 118,
   "id": "dd90efbf",
   "metadata": {},
   "outputs": [],
   "source": [
    "code = res.split('```python')[1].split('```')[0]\n",
    "files = eval(code)"
   ]
  },
  {
   "cell_type": "code",
   "execution_count": 135,
   "id": "ba50fca1",
   "metadata": {},
   "outputs": [],
   "source": [
    "for file in files:\n",
    "    with open(directory_path / file, 'r', encoding='utf-8') as f:\n",
    "        file_str = f\"{file}\\n\\n{f.read()}\\n\\n\" \n",
    "    break"
   ]
  },
  {
   "cell_type": "code",
   "execution_count": 155,
   "id": "80365f21",
   "metadata": {},
   "outputs": [],
   "source": [
    "file = files[3]"
   ]
  },
  {
   "cell_type": "code",
   "execution_count": 156,
   "id": "0819d11d",
   "metadata": {},
   "outputs": [
    {
     "data": {
      "text/plain": [
       "'.gitignore'"
      ]
     },
     "execution_count": 156,
     "metadata": {},
     "output_type": "execute_result"
    }
   ],
   "source": [
    "file"
   ]
  },
  {
   "cell_type": "code",
   "execution_count": 157,
   "id": "63282bdd",
   "metadata": {},
   "outputs": [],
   "source": [
    "\n",
    "with open(directory_path / file, 'r', encoding='utf-8') as f:\n",
    "    file_str = f\"{file}\\n\\n{f.read()}\\n\\n\" "
   ]
  },
  {
   "cell_type": "code",
   "execution_count": 158,
   "id": "35e1f04e",
   "metadata": {},
   "outputs": [
    {
     "data": {
      "text/plain": [
       "'.gitignore\\n\\n*.yml\\n# Byte-compiled / optimized / DLL files\\n__pycache__/\\n*.py[cod]\\n*$py.class\\n\\n# C extensions\\n*.so\\n\\n# Distribution / packaging\\n.Python\\nbuild/\\ndevelop-eggs/\\ndist/\\ndownloads/\\neggs/\\n.eggs/\\nlib64/\\nparts/\\nsdist/\\nvar/\\nwheels/\\n*.egg-info/\\n.installed.cfg\\n*.egg\\nMANIFEST\\n\\n# PyInstaller\\n#  Usually these files are written by a python script from a template\\n#  before PyInstaller builds the exe, so as to inject date/other infos into it.\\n*.manifest\\n*.spec\\n\\n# Installer logs\\npip-log.txt\\npip-delete-this-directory.txt\\n\\n# Unit test / coverage reports\\nhtmlcov/\\n.tox/\\n.coverage\\n.coverage.*\\n.cache\\nnosetests.xml\\ncoverage.xml\\n*.cover\\n.hypothesis/\\n.pytest_cache/\\n\\n# Translations\\n*.mo\\n*.pot\\n\\n# Django stuff:\\n*.log\\nlocal_settings.py\\ndb.sqlite3\\n\\n# Flask stuff:\\ninstance/\\n.webassets-cache\\n\\n# Scrapy stuff:\\n.scrapy\\n\\n# Sphinx documentation\\ndocs/_build/\\n\\n# PyBuilder\\ntarget/\\n\\n# Jupyter Notebook\\n.ipynb_checkpoints\\n\\n# pyenv\\n.python-version\\n\\n# celery beat schedule file\\ncelerybeat-schedule\\n\\n# SageMath parsed files\\n*.sage.py\\n\\n# Environments\\n.env\\n.venv\\nenv/\\nvenv/\\nENV/\\nenv.bak/\\nvenv.bak/\\n\\n# Spyder project settings\\n.spyderproject\\n.spyproject\\n\\n# Rope project settings\\n.ropeproject\\n\\n# mkdocs documentation\\n/site\\n\\n# mypy\\n.mypy_cache/\\n\\n\\n'"
      ]
     },
     "execution_count": 158,
     "metadata": {},
     "output_type": "execute_result"
    }
   ],
   "source": [
    "file_str"
   ]
  },
  {
   "cell_type": "code",
   "execution_count": 159,
   "id": "3bbcb2c4",
   "metadata": {},
   "outputs": [
    {
     "name": "stdout",
     "output_type": "stream",
     "text": [
      "0.09801\n"
     ]
    }
   ],
   "source": [
    "res, price = chat(file_str)\n",
    "print(price)"
   ]
  },
  {
   "cell_type": "code",
   "execution_count": 160,
   "id": "6e22da6b",
   "metadata": {},
   "outputs": [
    {
     "name": "stdout",
     "output_type": "stream",
     "text": [
      "## Ignored Files and Directories\n",
      "\n",
      "The `.gitignore` file specifies patterns of files and directories that Git should ignore. Here are some of the types of files and directories that are ignored in this project:\n",
      "\n",
      "- YAML files (`*.yml`)\n",
      "- Byte-compiled, optimized, and DLL files (`__pycache__/`, `*.py[cod]`, `*$py.class`, `*.so`)\n",
      "- Distribution and packaging files (`.Python`, `build/`, `develop-eggs/`, `dist/`, `downloads/`, `eggs/`, `.eggs/`, `lib64/`, `parts/`, `sdist/`, `var/`, `wheels/`, `*.egg-info/`, `.installed.cfg`, `*.egg`, `MANIFEST`)\n",
      "- PyInstaller files (`*.manifest`, `*.spec`)\n",
      "- Installer logs (`pip-log.txt`, `pip-delete-this-directory.txt`)\n",
      "- Unit test and coverage reports (`htmlcov/`, `.tox/`, `.coverage`, `.coverage.*`, `.cache`, `nosetests.xml`, `coverage.xml`, `*.cover`, `.hypothesis/`, `.pytest_cache/`)\n",
      "- Translation files (`*.mo`, `*.pot`)\n",
      "- Django and Flask files (`*.log`, `local_settings.py`, `db.sqlite3`, `instance/`, `.webassets-cache`)\n",
      "- Scrapy files (`.scrapy`)\n",
      "- Sphinx documentation (`docs/_build/`)\n",
      "- PyBuilder files (`target/`)\n",
      "- Jupyter Notebook files (`.ipynb_checkpoints`)\n",
      "- pyenv files (`.python-version`)\n",
      "- Celery beat schedule files (`celerybeat-schedule`)\n",
      "- SageMath parsed files (`*.sage.py`)\n",
      "- Environment files and directories (`.env`, `.venv`, `env/`, `venv/`, `ENV/`, `env.bak/`, `venv.bak/`)\n",
      "- Spyder and Rope project settings (`.spyderproject`, `.spyproject`, `.ropeproject`)\n",
      "- mkdocs documentation (`/site`)\n",
      "- mypy cache (`.mypy_cache/`)\n",
      "\n",
      "These files and directories are typically generated during the development, testing, and building of the project, and they are not necessary for using the `timemanager` module. Therefore, they are not included in the Git repository.\n"
     ]
    }
   ],
   "source": [
    "print(res)"
   ]
  },
  {
   "cell_type": "code",
   "execution_count": 161,
   "id": "83a16bb5",
   "metadata": {},
   "outputs": [
    {
     "data": {
      "text/plain": [
       "0.28479"
      ]
     },
     "execution_count": 161,
     "metadata": {},
     "output_type": "execute_result"
    }
   ],
   "source": [
    "chat.fee"
   ]
  },
  {
   "cell_type": "code",
   "execution_count": null,
   "id": "92fd201e",
   "metadata": {},
   "outputs": [],
   "source": []
  },
  {
   "cell_type": "code",
   "execution_count": 141,
   "id": "420a0d52",
   "metadata": {},
   "outputs": [
    {
     "name": "stdout",
     "output_type": "stream",
     "text": [
      "## Overview\n",
      "\n",
      "`timemanager` is a Python module for handling time. It provides functionalities such as converting time zones, formatting time, and calculating time differences.\n",
      "\n",
      "## Features\n",
      "\n",
      "- Time zone conversion: Convert time from one time zone to another.\n",
      "- Time formatting: Format time in various ways.\n",
      "- Time calculation: Calculate the difference between two times.\n",
      "\n",
      "## Installation\n",
      "\n",
      "You can install the latest stable release of `timemanager` using pip:\n",
      "\n",
      "```bash\n",
      "pip install git+https://github.com/FumiYoshida/timemanager\n",
      "```\n",
      "\n",
      "## Usage\n",
      "\n",
      "After installing the module, you can import it in your Python script as follows:\n",
      "\n",
      "```python\n",
      "from timemanager import timemanager\n",
      "```\n",
      "\n",
      "## Contributing\n",
      "\n",
      "Contributions are welcome! Please read the [contributing guidelines](CONTRIBUTING.md) before getting started.\n",
      "\n",
      "## License\n",
      "\n",
      "This project is licensed under the terms of the MIT license. See the [LICENSE](LICENSE) file for details.\n"
     ]
    }
   ],
   "source": [
    "print(res)"
   ]
  },
  {
   "cell_type": "code",
   "execution_count": null,
   "id": "0b12c45a",
   "metadata": {},
   "outputs": [],
   "source": []
  },
  {
   "cell_type": "code",
   "execution_count": null,
   "id": "ef124a71",
   "metadata": {},
   "outputs": [],
   "source": []
  },
  {
   "cell_type": "code",
   "execution_count": null,
   "id": "ed2ab464",
   "metadata": {},
   "outputs": [],
   "source": []
  },
  {
   "cell_type": "code",
   "execution_count": 134,
   "id": "833baf61",
   "metadata": {},
   "outputs": [],
   "source": [
    "for file in files:\n",
    "        #print(file_str)"
   ]
  },
  {
   "cell_type": "code",
   "execution_count": 128,
   "id": "e774b29a",
   "metadata": {},
   "outputs": [],
   "source": []
  },
  {
   "cell_type": "code",
   "execution_count": 130,
   "id": "276fe1cc",
   "metadata": {},
   "outputs": [
    {
     "name": "stdout",
     "output_type": "stream",
     "text": [
      "README.md\n",
      "\n",
      "```# timemanager\n",
      " 時刻を扱うモジュール\n",
      " \n",
      " <p align=\"center\">\n",
      " <img src=\"https://img.shields.io/badge/python-v3.9+-blue.svg\">\n",
      " <img src=\"https://img.shields.io/badge/contributions-welcome-orange.svg\">\n",
      " <a href=\"https://opensource.org/licenses/MIT\">\n",
      "  <img src=\"https://img.shields.io/badge/license-MIT-blue.svg\">\n",
      " </a>\n",
      "</p>\n",
      "\n",
      "## Last Stable Release\n",
      "```bash\n",
      "pip install git+https://github.com/FumiYoshida/timemanager\n",
      "```\n",
      "```\n",
      "\n",
      "\n"
     ]
    }
   ],
   "source": []
  },
  {
   "cell_type": "code",
   "execution_count": 132,
   "id": "d5302ed7",
   "metadata": {},
   "outputs": [
    {
     "data": {
      "text/plain": [
       "['README.md',\n",
       " 'LICENSE',\n",
       " 'pyproject.toml',\n",
       " '.gitignore',\n",
       " '.gitattributes',\n",
       " 'src/timemanager/__init__.py',\n",
       " 'src/timemanager/timemanager.py',\n",
       " 'src/timemanager/common.py',\n",
       " 'src/timemanager/notz.py']"
      ]
     },
     "execution_count": 132,
     "metadata": {},
     "output_type": "execute_result"
    }
   ],
   "source": [
    "files"
   ]
  },
  {
   "cell_type": "code",
   "execution_count": null,
   "id": "10e6b724",
   "metadata": {},
   "outputs": [],
   "source": []
  },
  {
   "cell_type": "code",
   "execution_count": null,
   "id": "3d04870b",
   "metadata": {},
   "outputs": [],
   "source": []
  },
  {
   "cell_type": "code",
   "execution_count": 103,
   "id": "4d3b76db",
   "metadata": {},
   "outputs": [],
   "source": [
    "try:\n",
    "    code = res.split('```python')[1].split('```')[0]\n",
    "except IndexError as e:\n",
    "    t = list(traceback.TracebackException.from_exception(e).format())"
   ]
  },
  {
   "cell_type": "code",
   "execution_count": 95,
   "id": "04af888b",
   "metadata": {},
   "outputs": [],
   "source": [
    "res, price = chat(\"exception occured while parsing what you have said before.\" + str(t))"
   ]
  },
  {
   "cell_type": "code",
   "execution_count": 108,
   "id": "45078f70",
   "metadata": {},
   "outputs": [],
   "source": [
    "exec(res, res_sandbox := {})"
   ]
  },
  {
   "cell_type": "code",
   "execution_count": 110,
   "id": "f71d663f",
   "metadata": {},
   "outputs": [
    {
     "data": {
      "text/plain": [
       "0.00882"
      ]
     },
     "execution_count": 110,
     "metadata": {},
     "output_type": "execute_result"
    }
   ],
   "source": [
    "price"
   ]
  },
  {
   "cell_type": "code",
   "execution_count": 112,
   "id": "09b71170",
   "metadata": {},
   "outputs": [
    {
     "ename": "IndexError",
     "evalue": "list index out of range",
     "output_type": "error",
     "traceback": [
      "\u001b[1;31m---------------------------------------------------------------------------\u001b[0m",
      "\u001b[1;31mIndexError\u001b[0m                                Traceback (most recent call last)",
      "\u001b[1;32m~\\AppData\\Local\\Temp/ipykernel_23892/1582672756.py\u001b[0m in \u001b[0;36m<module>\u001b[1;34m\u001b[0m\n\u001b[1;32m----> 1\u001b[1;33m \u001b[0mcode\u001b[0m \u001b[1;33m=\u001b[0m \u001b[0mres\u001b[0m\u001b[1;33m.\u001b[0m\u001b[0msplit\u001b[0m\u001b[1;33m(\u001b[0m\u001b[1;34m'```python'\u001b[0m\u001b[1;33m)\u001b[0m\u001b[1;33m[\u001b[0m\u001b[1;36m1\u001b[0m\u001b[1;33m]\u001b[0m\u001b[1;33m.\u001b[0m\u001b[0msplit\u001b[0m\u001b[1;33m(\u001b[0m\u001b[1;34m'```'\u001b[0m\u001b[1;33m)\u001b[0m\u001b[1;33m[\u001b[0m\u001b[1;36m0\u001b[0m\u001b[1;33m]\u001b[0m\u001b[1;33m\u001b[0m\u001b[1;33m\u001b[0m\u001b[0m\n\u001b[0m\u001b[0;32m      2\u001b[0m \u001b[0mfiles\u001b[0m \u001b[1;33m=\u001b[0m \u001b[0meval\u001b[0m\u001b[1;33m(\u001b[0m\u001b[0mcode\u001b[0m\u001b[1;33m)\u001b[0m\u001b[1;33m\u001b[0m\u001b[1;33m\u001b[0m\u001b[0m\n",
      "\u001b[1;31mIndexError\u001b[0m: list index out of range"
     ]
    }
   ],
   "source": [
    "code = res.split('```python')[1].split('```')[0]\n",
    "files = eval(code)"
   ]
  },
  {
   "cell_type": "code",
   "execution_count": null,
   "id": "890456f8",
   "metadata": {},
   "outputs": [],
   "source": []
  },
  {
   "cell_type": "code",
   "execution_count": 47,
   "id": "2147a07d",
   "metadata": {},
   "outputs": [
    {
     "data": {
      "text/plain": [
       "['..\\\\..\\\\timemanager\\\\.gitattributes',\n",
       " '..\\\\..\\\\timemanager\\\\.gitignore',\n",
       " '..\\\\..\\\\timemanager\\\\LICENSE',\n",
       " '..\\\\..\\\\timemanager\\\\pyproject.toml',\n",
       " '..\\\\..\\\\timemanager\\\\README.md',\n",
       " '..\\\\..\\\\timemanager\\\\.git\\\\COMMIT_EDITMSG',\n",
       " '..\\\\..\\\\timemanager\\\\.git\\\\config',\n",
       " '..\\\\..\\\\timemanager\\\\.git\\\\description',\n",
       " '..\\\\..\\\\timemanager\\\\.git\\\\FETCH_HEAD',\n",
       " '..\\\\..\\\\timemanager\\\\.git\\\\HEAD',\n",
       " '..\\\\..\\\\timemanager\\\\.git\\\\index',\n",
       " '..\\\\..\\\\timemanager\\\\.git\\\\ORIG_HEAD',\n",
       " '..\\\\..\\\\timemanager\\\\.git\\\\hooks\\\\applypatch-msg.sample',\n",
       " '..\\\\..\\\\timemanager\\\\.git\\\\hooks\\\\commit-msg.sample',\n",
       " '..\\\\..\\\\timemanager\\\\.git\\\\hooks\\\\fsmonitor-watchman.sample',\n",
       " '..\\\\..\\\\timemanager\\\\.git\\\\hooks\\\\post-update.sample',\n",
       " '..\\\\..\\\\timemanager\\\\.git\\\\hooks\\\\pre-applypatch.sample',\n",
       " '..\\\\..\\\\timemanager\\\\.git\\\\hooks\\\\pre-commit.sample',\n",
       " '..\\\\..\\\\timemanager\\\\.git\\\\hooks\\\\pre-merge-commit.sample',\n",
       " '..\\\\..\\\\timemanager\\\\.git\\\\hooks\\\\pre-push.sample',\n",
       " '..\\\\..\\\\timemanager\\\\.git\\\\hooks\\\\pre-rebase.sample',\n",
       " '..\\\\..\\\\timemanager\\\\.git\\\\hooks\\\\pre-receive.sample',\n",
       " '..\\\\..\\\\timemanager\\\\.git\\\\hooks\\\\prepare-commit-msg.sample',\n",
       " '..\\\\..\\\\timemanager\\\\.git\\\\hooks\\\\push-to-checkout.sample',\n",
       " '..\\\\..\\\\timemanager\\\\.git\\\\hooks\\\\update.sample',\n",
       " '..\\\\..\\\\timemanager\\\\.git\\\\info\\\\exclude',\n",
       " '..\\\\..\\\\timemanager\\\\.git\\\\logs\\\\HEAD',\n",
       " '..\\\\..\\\\timemanager\\\\.git\\\\logs\\\\refs\\\\heads\\\\main',\n",
       " '..\\\\..\\\\timemanager\\\\.git\\\\logs\\\\refs\\\\remotes\\\\origin\\\\HEAD',\n",
       " '..\\\\..\\\\timemanager\\\\.git\\\\logs\\\\refs\\\\remotes\\\\origin\\\\main',\n",
       " '..\\\\..\\\\timemanager\\\\.git\\\\objects\\\\00\\\\eb9e8f528ab2e91e45f0defaf7a8ba59ec88fb',\n",
       " '..\\\\..\\\\timemanager\\\\.git\\\\objects\\\\01\\\\a2c8c0d2f26d23b91ea02fb1d077019ca43e2f',\n",
       " '..\\\\..\\\\timemanager\\\\.git\\\\objects\\\\01\\\\b4955a8c1f2f511839a8d938b9babd57af9094',\n",
       " '..\\\\..\\\\timemanager\\\\.git\\\\objects\\\\06\\\\e365c540e19223b92dbb9c28b2a346b087ab56',\n",
       " '..\\\\..\\\\timemanager\\\\.git\\\\objects\\\\08\\\\3ccc0be803ae2a860161400a8aec2d363e9cba',\n",
       " '..\\\\..\\\\timemanager\\\\.git\\\\objects\\\\09\\\\fa2ff26d934b9a967b00306450f9cd5f734408',\n",
       " '..\\\\..\\\\timemanager\\\\.git\\\\objects\\\\0a\\\\0adacf1d56a8e0a1f8fbd81dc7ac1c97f3cb7a',\n",
       " '..\\\\..\\\\timemanager\\\\.git\\\\objects\\\\0f\\\\f24c73b8c627df2c1bb32708880311b90d6cac',\n",
       " '..\\\\..\\\\timemanager\\\\.git\\\\objects\\\\11\\\\368ef71d84c6c8fc501fc39f9157da25d96b08',\n",
       " '..\\\\..\\\\timemanager\\\\.git\\\\objects\\\\11\\\\888415f93ee512a3a954c3dd7400a5bed69b36',\n",
       " '..\\\\..\\\\timemanager\\\\.git\\\\objects\\\\12\\\\749926912a3cbeca4bbe044c57defa1cb3008a',\n",
       " '..\\\\..\\\\timemanager\\\\.git\\\\objects\\\\12\\\\87c5ec4ec02efe92b594ecfd9e4fe560ce098c',\n",
       " '..\\\\..\\\\timemanager\\\\.git\\\\objects\\\\12\\\\b8d730641f3a7fdd9504a0f3beb0faa52ca2f0',\n",
       " '..\\\\..\\\\timemanager\\\\.git\\\\objects\\\\15\\\\9c6951816e15bbcb909963fd284e8d6990a162',\n",
       " '..\\\\..\\\\timemanager\\\\.git\\\\objects\\\\16\\\\3a42ff7976135e6dccf92cf2455ff7551ea62b',\n",
       " '..\\\\..\\\\timemanager\\\\.git\\\\objects\\\\18\\\\73bdd06d4aadc8f6c1e56e915b549be26dee83',\n",
       " '..\\\\..\\\\timemanager\\\\.git\\\\objects\\\\19\\\\2f5e0f62226073a74d300b131ee107a74ee91c',\n",
       " '..\\\\..\\\\timemanager\\\\.git\\\\objects\\\\19\\\\ebf1f63fe9a1f3d33875c7c92a0d3edf932151',\n",
       " '..\\\\..\\\\timemanager\\\\.git\\\\objects\\\\1d\\\\4bbbb482c7b8581959b65633cc349aeafa561b',\n",
       " '..\\\\..\\\\timemanager\\\\.git\\\\objects\\\\1f\\\\785e6836dfa9ae5b2c09b16129ef390e3268e6',\n",
       " '..\\\\..\\\\timemanager\\\\.git\\\\objects\\\\20\\\\e1678b80bd5a1549bff90e5d3e921e8e315417',\n",
       " '..\\\\..\\\\timemanager\\\\.git\\\\objects\\\\24\\\\a859b0ca756631745fec17c92687e942189e14',\n",
       " '..\\\\..\\\\timemanager\\\\.git\\\\objects\\\\27\\\\1cc71239e52360dde51ed25b9b314fae16fbf6',\n",
       " '..\\\\..\\\\timemanager\\\\.git\\\\objects\\\\27\\\\cbcc1e9436df3c69696a13dc7311828bd7053e',\n",
       " '..\\\\..\\\\timemanager\\\\.git\\\\objects\\\\28\\\\82cc5985e8c0b3d10f2aa8b8feec3c09d84e5e',\n",
       " '..\\\\..\\\\timemanager\\\\.git\\\\objects\\\\28\\\\f028b706943d8f83701186484c20fd3e119b87',\n",
       " '..\\\\..\\\\timemanager\\\\.git\\\\objects\\\\29\\\\afa143c00dd3fcec339080bcbea7d665412799',\n",
       " '..\\\\..\\\\timemanager\\\\.git\\\\objects\\\\2c\\\\8093012fdd29ee5bb10a9742b70119afc0ec0e',\n",
       " '..\\\\..\\\\timemanager\\\\.git\\\\objects\\\\2c\\\\c88a331c31742a8c117a545f24be71fbaa82ea',\n",
       " '..\\\\..\\\\timemanager\\\\.git\\\\objects\\\\2e\\\\8681ff50bc7df207fd81b3bdbd6d7cf0ba2511',\n",
       " '..\\\\..\\\\timemanager\\\\.git\\\\objects\\\\2f\\\\6616a417b6306f1cf22865c1ce9072ee943a54',\n",
       " '..\\\\..\\\\timemanager\\\\.git\\\\objects\\\\30\\\\f0219f767d7feda983706f69afc3aab36211c7',\n",
       " '..\\\\..\\\\timemanager\\\\.git\\\\objects\\\\34\\\\46be69edbbf090efd24507d1d85a31762db8a8',\n",
       " '..\\\\..\\\\timemanager\\\\.git\\\\objects\\\\35\\\\06eed60804a072dfad1fc57622f8366d7b7832',\n",
       " '..\\\\..\\\\timemanager\\\\.git\\\\objects\\\\35\\\\32fa18f04623b9c41b828803038dc9e3020bce',\n",
       " '..\\\\..\\\\timemanager\\\\.git\\\\objects\\\\38\\\\f73a16195c367a950aeb427e7ce4c0b4ec6670',\n",
       " '..\\\\..\\\\timemanager\\\\.git\\\\objects\\\\3a\\\\4b935e6e601ecb705b544417fb2b57d5296eb1',\n",
       " '..\\\\..\\\\timemanager\\\\.git\\\\objects\\\\3d\\\\4d582a536f9de097539d1ff4c1c65961ce0a37',\n",
       " '..\\\\..\\\\timemanager\\\\.git\\\\objects\\\\40\\\\47702345ad437b53c06c5b51faf1abcb95ffb4',\n",
       " '..\\\\..\\\\timemanager\\\\.git\\\\objects\\\\40\\\\df4a4fbf33d08154f9e64ad1945e13aea55f6d',\n",
       " '..\\\\..\\\\timemanager\\\\.git\\\\objects\\\\42\\\\8ef0a265238fbd522b2c20f66ceb7a04fcdc57',\n",
       " '..\\\\..\\\\timemanager\\\\.git\\\\objects\\\\43\\\\210e93dd47c27b1fae0f1c4bace2a6b53fef46',\n",
       " '..\\\\..\\\\timemanager\\\\.git\\\\objects\\\\43\\\\62deba6156e1b8b92505bc3a9cdb0e3e5f93ad',\n",
       " '..\\\\..\\\\timemanager\\\\.git\\\\objects\\\\44\\\\3fea5119deba7a2cfe0a9a78c40c7afde50681',\n",
       " '..\\\\..\\\\timemanager\\\\.git\\\\objects\\\\44\\\\4305eac4a14c0699e8519063d2833266c84ff0',\n",
       " '..\\\\..\\\\timemanager\\\\.git\\\\objects\\\\44\\\\a8052b91ad0bba9ba9a539dab9896ca208ae8e',\n",
       " '..\\\\..\\\\timemanager\\\\.git\\\\objects\\\\46\\\\8dc171443a72d8390309c0c7a1af1627945e5d',\n",
       " '..\\\\..\\\\timemanager\\\\.git\\\\objects\\\\47\\\\7b94f732ef25de8a498d5c2979a879e8504f07',\n",
       " '..\\\\..\\\\timemanager\\\\.git\\\\objects\\\\48\\\\7f1808ebfdf67cf9eaaed7c5d7f87722339dd8',\n",
       " '..\\\\..\\\\timemanager\\\\.git\\\\objects\\\\49\\\\c1bc4addef90ec71e9d09791f4c752d61d1a5f',\n",
       " '..\\\\..\\\\timemanager\\\\.git\\\\objects\\\\4f\\\\6a60ae2462b48b62d3d1583f7fd863f9a55c54',\n",
       " '..\\\\..\\\\timemanager\\\\.git\\\\objects\\\\50\\\\1d9eb95fca326d6f05394bc6b168dc0c516f12',\n",
       " '..\\\\..\\\\timemanager\\\\.git\\\\objects\\\\50\\\\d4b9ed0726a8cd6c642d4b0f27baf7a266aead',\n",
       " '..\\\\..\\\\timemanager\\\\.git\\\\objects\\\\52\\\\283e4f8f02021ef867dd6039c4c8b1cea888e4',\n",
       " '..\\\\..\\\\timemanager\\\\.git\\\\objects\\\\52\\\\636058702253ce6becd5682e2126989b1ef3f7',\n",
       " '..\\\\..\\\\timemanager\\\\.git\\\\objects\\\\55\\\\18940ad0b70b20b287c370ea44c8384fa3df53',\n",
       " '..\\\\..\\\\timemanager\\\\.git\\\\objects\\\\56\\\\cabac3e266ea303dfd1097355024e27a0f9a0a',\n",
       " '..\\\\..\\\\timemanager\\\\.git\\\\objects\\\\58\\\\a0f0ac3dd4095dc9c707bf42d037e8b98e3199',\n",
       " '..\\\\..\\\\timemanager\\\\.git\\\\objects\\\\58\\\\c5f7d9aa0ced8278d7e262abd276e1c558efd1',\n",
       " '..\\\\..\\\\timemanager\\\\.git\\\\objects\\\\59\\\\a95b51f9e5126411363bee95e27113569f9a99',\n",
       " '..\\\\..\\\\timemanager\\\\.git\\\\objects\\\\5f\\\\aec1092dd1d44b82f39b459ba5698ecb504117',\n",
       " '..\\\\..\\\\timemanager\\\\.git\\\\objects\\\\5f\\\\ef779fb2cc46bf8cb8e06cef8f3cb8b767ef92',\n",
       " '..\\\\..\\\\timemanager\\\\.git\\\\objects\\\\62\\\\c185a48bb59bd2d1d10bafd13cd69751ec433d',\n",
       " '..\\\\..\\\\timemanager\\\\.git\\\\objects\\\\63\\\\5a71331355e3e5d7476a331bcfda776c9ef8bd',\n",
       " '..\\\\..\\\\timemanager\\\\.git\\\\objects\\\\64\\\\59c3f03d636173409690bdf0c0ac006e399449',\n",
       " '..\\\\..\\\\timemanager\\\\.git\\\\objects\\\\6a\\\\f3c74f4ee67de37fd6b53002b4e02248195ff7',\n",
       " '..\\\\..\\\\timemanager\\\\.git\\\\objects\\\\6d\\\\228eb6c195b82013be7ff975c3b434459289d4',\n",
       " '..\\\\..\\\\timemanager\\\\.git\\\\objects\\\\71\\\\198cf1713aecb0ec3cc54ca154ef20f2ea30a2',\n",
       " '..\\\\..\\\\timemanager\\\\.git\\\\objects\\\\72\\\\4c505fc31cff887ef8c322298d8896bc9bcc7d',\n",
       " '..\\\\..\\\\timemanager\\\\.git\\\\objects\\\\72\\\\d630852d7a9725feb81317297cf1b96e0d4ad3',\n",
       " '..\\\\..\\\\timemanager\\\\.git\\\\objects\\\\74\\\\3798808bc3dff9e70db7bf0e00bc87ade8515d',\n",
       " '..\\\\..\\\\timemanager\\\\.git\\\\objects\\\\75\\\\0818a6426c66bbd613de66944e31f0f76eabb6',\n",
       " '..\\\\..\\\\timemanager\\\\.git\\\\objects\\\\7a\\\\05c8102006f574d15d5d5a5dfd9b732aac7305',\n",
       " '..\\\\..\\\\timemanager\\\\.git\\\\objects\\\\7a\\\\abdee69704c4860d084e41b95a85fc3f4974f1',\n",
       " '..\\\\..\\\\timemanager\\\\.git\\\\objects\\\\7e\\\\68e2758b16679b6dc20cb86fafce1f5824d616',\n",
       " '..\\\\..\\\\timemanager\\\\.git\\\\objects\\\\83\\\\efdc7e6828b740cbe4ee7de4866f9fe76ca842',\n",
       " '..\\\\..\\\\timemanager\\\\.git\\\\objects\\\\84\\\\c6dfb4b674cd5e872991abe5b47624909abc06',\n",
       " '..\\\\..\\\\timemanager\\\\.git\\\\objects\\\\86\\\\e076e69b97cb368156eda783244f9959c41059',\n",
       " '..\\\\..\\\\timemanager\\\\.git\\\\objects\\\\87\\\\4b136713447dbb57fd80bea73d5206ece0ce38',\n",
       " '..\\\\..\\\\timemanager\\\\.git\\\\objects\\\\88\\\\962fd680c674e85c3a0fd24374c875030b5791',\n",
       " '..\\\\..\\\\timemanager\\\\.git\\\\objects\\\\89\\\\88bbbb21953f8d943ea223047204514e3bb0c4',\n",
       " '..\\\\..\\\\timemanager\\\\.git\\\\objects\\\\89\\\\f07e800ef63eded137f6aa959814d5cf4f8689',\n",
       " '..\\\\..\\\\timemanager\\\\.git\\\\objects\\\\8a\\\\22076abb96b95a0ab155f33e46181d173de951',\n",
       " '..\\\\..\\\\timemanager\\\\.git\\\\objects\\\\8e\\\\697cbaee5a307841b44c436fdfcb81ff6d36c2',\n",
       " '..\\\\..\\\\timemanager\\\\.git\\\\objects\\\\8f\\\\d412334fb7b34970f1b29066e92bd57183fdf2',\n",
       " '..\\\\..\\\\timemanager\\\\.git\\\\objects\\\\90\\\\2bcb74260063e9252e40361916c7feae1881b8',\n",
       " '..\\\\..\\\\timemanager\\\\.git\\\\objects\\\\91\\\\b35347fec4ece253475ecbd19f2e4b8d998c4b',\n",
       " '..\\\\..\\\\timemanager\\\\.git\\\\objects\\\\91\\\\c44fa7c1e056c11e0384da595c2038af9dff72',\n",
       " '..\\\\..\\\\timemanager\\\\.git\\\\objects\\\\9b\\\\27ded270255385b20a83e5c92038987914caf4',\n",
       " '..\\\\..\\\\timemanager\\\\.git\\\\objects\\\\9b\\\\5281220ceb458ca7f2592845daf270c16d2cfa',\n",
       " '..\\\\..\\\\timemanager\\\\.git\\\\objects\\\\9b\\\\a75afe662f2738680c8fc7d70c7f387ae639dd',\n",
       " '..\\\\..\\\\timemanager\\\\.git\\\\objects\\\\9e\\\\0e5e1a5994ab91b060d4088098d62d8e3d3b4f',\n",
       " '..\\\\..\\\\timemanager\\\\.git\\\\objects\\\\a0\\\\19d3c5dddcdbce13e4414b1df036aae4d875d0',\n",
       " '..\\\\..\\\\timemanager\\\\.git\\\\objects\\\\a4\\\\50e590fe6b8c00f326357946cff5773124944a',\n",
       " '..\\\\..\\\\timemanager\\\\.git\\\\objects\\\\a6\\\\ac45d99dfa4ab5e023ea320d4840692f071a54',\n",
       " '..\\\\..\\\\timemanager\\\\.git\\\\objects\\\\a7\\\\0d077eb247c132a2d2232e4e5be64b765adff3',\n",
       " '..\\\\..\\\\timemanager\\\\.git\\\\objects\\\\a8\\\\6d6cd7c0bcd5c16ca6b9740503c7d283f041ec',\n",
       " '..\\\\..\\\\timemanager\\\\.git\\\\objects\\\\aa\\\\d61dfbc3c74ce1468102e29e32160cf2726488',\n",
       " '..\\\\..\\\\timemanager\\\\.git\\\\objects\\\\b1\\\\b922460d6ca674cd90797d552b55c050e5485e',\n",
       " '..\\\\..\\\\timemanager\\\\.git\\\\objects\\\\b2\\\\c35ec9b8666a13f6c5a84efa8b05029ffa16d8',\n",
       " '..\\\\..\\\\timemanager\\\\.git\\\\objects\\\\b4\\\\250b01b209e6f066cf06a7200acd40feb43027',\n",
       " '..\\\\..\\\\timemanager\\\\.git\\\\objects\\\\b6\\\\5aa40e98bd5ea0c0469ab2864e87a183f3f183',\n",
       " '..\\\\..\\\\timemanager\\\\.git\\\\objects\\\\b7\\\\27a12785743353da96bd94d10d3c79ba69d1c6',\n",
       " '..\\\\..\\\\timemanager\\\\.git\\\\objects\\\\b9\\\\4b44f6722d56123441a0b9378b80120ef3c4f8',\n",
       " '..\\\\..\\\\timemanager\\\\.git\\\\objects\\\\b9\\\\b00f5712487bd6cc81db28a35fad19dbd63bc9',\n",
       " '..\\\\..\\\\timemanager\\\\.git\\\\objects\\\\ba\\\\05bb6d5d095fe9f20ab14bc1107e36ef75ba0b',\n",
       " '..\\\\..\\\\timemanager\\\\.git\\\\objects\\\\bb\\\\28581692ae9a022d069de679684e1cfa0780ae',\n",
       " '..\\\\..\\\\timemanager\\\\.git\\\\objects\\\\bc\\\\503bb750905c98b9379ffafff4d08cb6b5dfa9',\n",
       " '..\\\\..\\\\timemanager\\\\.git\\\\objects\\\\bd\\\\b88ff033c4fc74ec417bbad03c1940e5ac239c',\n",
       " '..\\\\..\\\\timemanager\\\\.git\\\\objects\\\\be\\\\370240730d94610fa6df0f9b6a98df841917ca',\n",
       " '..\\\\..\\\\timemanager\\\\.git\\\\objects\\\\bf\\\\9787faeb792f617a1903154dd5a3233483cdaa',\n",
       " '..\\\\..\\\\timemanager\\\\.git\\\\objects\\\\c2\\\\c77b18d970f4eec03e01ab7cdd2041e1a1cffa',\n",
       " '..\\\\..\\\\timemanager\\\\.git\\\\objects\\\\c6\\\\db0e7cd439b3d26e65335cc379c2aebb2b5ea0',\n",
       " '..\\\\..\\\\timemanager\\\\.git\\\\objects\\\\c7\\\\9989b04636e1fa5ae1b0453ef9851ee7b74554',\n",
       " '..\\\\..\\\\timemanager\\\\.git\\\\objects\\\\cb\\\\6f26e5f8268158bbdecc43cd58471d4e496022',\n",
       " '..\\\\..\\\\timemanager\\\\.git\\\\objects\\\\cc\\\\ac871f13ebd4caf877f58ae69cfa8302ac6698',\n",
       " '..\\\\..\\\\timemanager\\\\.git\\\\objects\\\\cd\\\\225b4e93b3995508b021952b89e7b70a965dea',\n",
       " '..\\\\..\\\\timemanager\\\\.git\\\\objects\\\\cf\\\\e30b3d18c56a524b7d7f38badec9e917522929',\n",
       " '..\\\\..\\\\timemanager\\\\.git\\\\objects\\\\d0\\\\769b945740bfa3d7bcf9bc935d0d5bfe6ed858',\n",
       " '..\\\\..\\\\timemanager\\\\.git\\\\objects\\\\d0\\\\f9e1ec9a71819e1a6c2689c7eaf7aa53f6eed5',\n",
       " '..\\\\..\\\\timemanager\\\\.git\\\\objects\\\\d4\\\\5c621eb93835754e00f758b6a45ce18f7b1ae4',\n",
       " '..\\\\..\\\\timemanager\\\\.git\\\\objects\\\\d6\\\\8c20116c88ac8ad24daff952c054b81c12f55b',\n",
       " '..\\\\..\\\\timemanager\\\\.git\\\\objects\\\\d7\\\\496d8092e3d9b07b44caac4621182f2a11d6fb',\n",
       " '..\\\\..\\\\timemanager\\\\.git\\\\objects\\\\d7\\\\9c70e75a0b379c58ad09e99dec506145aba6c5',\n",
       " '..\\\\..\\\\timemanager\\\\.git\\\\objects\\\\d7\\\\cc382df4ed3eae94785da582746506a7c72711',\n",
       " '..\\\\..\\\\timemanager\\\\.git\\\\objects\\\\da\\\\00245fab57fe7991d289a83b04cc9bc3fd9ca8',\n",
       " '..\\\\..\\\\timemanager\\\\.git\\\\objects\\\\da\\\\22bfb963fe4ca9b8124d26b640f5749c33cf43',\n",
       " '..\\\\..\\\\timemanager\\\\.git\\\\objects\\\\da\\\\df928c818b6791f23861a72f92ac58b7cddaa8',\n",
       " '..\\\\..\\\\timemanager\\\\.git\\\\objects\\\\dc\\\\e266a81d69ae32b712d4473b8641894af3f2a8',\n",
       " '..\\\\..\\\\timemanager\\\\.git\\\\objects\\\\dd\\\\a4407182284fa4bcc617c7e7808b4e75fcb379',\n",
       " '..\\\\..\\\\timemanager\\\\.git\\\\objects\\\\de\\\\c46c78f71a2d351beffebf69b237c820dd147d',\n",
       " '..\\\\..\\\\timemanager\\\\.git\\\\objects\\\\df\\\\e0770424b2a19faf507a501ebfc23be8f54e7b',\n",
       " '..\\\\..\\\\timemanager\\\\.git\\\\objects\\\\e2\\\\81c0ee9dfc2c33a604ffd9ec0ed1b3ecf4f716',\n",
       " '..\\\\..\\\\timemanager\\\\.git\\\\objects\\\\e3\\\\c1e0e2331db499c3de1db9823b962320e36d92',\n",
       " '..\\\\..\\\\timemanager\\\\.git\\\\objects\\\\e9\\\\cfceb649c1b9065c1ba6be799b43bca718cd8d',\n",
       " '..\\\\..\\\\timemanager\\\\.git\\\\objects\\\\ef\\\\a55ae09237701100c7e73d4fc1d34dc49c47e6',\n",
       " '..\\\\..\\\\timemanager\\\\.git\\\\objects\\\\f3\\\\4317d1e832f462ec5f8271ef4dc2bcf507a30e',\n",
       " '..\\\\..\\\\timemanager\\\\.git\\\\objects\\\\f5\\\\4c47fda7d7bb73c3dd5d4917ac754b65ea9da8',\n",
       " '..\\\\..\\\\timemanager\\\\.git\\\\objects\\\\f8\\\\79c9f3aab72d203c398a7e0b81612b1354c507',\n",
       " '..\\\\..\\\\timemanager\\\\.git\\\\objects\\\\f9\\\\ae40e8f3f71249dde0d3c7c09ac18671c5096d',\n",
       " '..\\\\..\\\\timemanager\\\\.git\\\\objects\\\\fa\\\\34d4ab48e269bb96970dcf2640925a83e919de',\n",
       " '..\\\\..\\\\timemanager\\\\.git\\\\objects\\\\fb\\\\3883f59500a23be71b77f827b57f7a874ec5dd',\n",
       " '..\\\\..\\\\timemanager\\\\.git\\\\objects\\\\fc\\\\2c64c055f5247d549e336f0d75b5a07ed7642e',\n",
       " '..\\\\..\\\\timemanager\\\\.git\\\\objects\\\\fd\\\\7180d6a048c63665d9f2b122b7c333a7193741',\n",
       " '..\\\\..\\\\timemanager\\\\.git\\\\objects\\\\fd\\\\d93081168064bdbcde3f66b6def5b69a221e57',\n",
       " '..\\\\..\\\\timemanager\\\\.git\\\\refs\\\\heads\\\\main',\n",
       " '..\\\\..\\\\timemanager\\\\.git\\\\refs\\\\remotes\\\\origin\\\\HEAD',\n",
       " '..\\\\..\\\\timemanager\\\\.git\\\\refs\\\\remotes\\\\origin\\\\main',\n",
       " '..\\\\..\\\\timemanager\\\\src\\\\timemanager\\\\common.py',\n",
       " '..\\\\..\\\\timemanager\\\\src\\\\timemanager\\\\notz.py',\n",
       " '..\\\\..\\\\timemanager\\\\src\\\\timemanager\\\\timemanager.py',\n",
       " '..\\\\..\\\\timemanager\\\\src\\\\timemanager\\\\__init__.py']"
      ]
     },
     "execution_count": 47,
     "metadata": {},
     "output_type": "execute_result"
    }
   ],
   "source": [
    "fnmatch.filter(files, \"*timemanager*\")"
   ]
  },
  {
   "cell_type": "code",
   "execution_count": 45,
   "id": "289dbbe6",
   "metadata": {},
   "outputs": [
    {
     "data": {
      "text/plain": [
       "['*.yml',\n",
       " '__pycache__/',\n",
       " '*.py[cod]',\n",
       " '*$py.class',\n",
       " '*.so',\n",
       " '.Python',\n",
       " 'build/',\n",
       " 'develop-eggs/',\n",
       " 'dist/',\n",
       " 'downloads/',\n",
       " 'eggs/',\n",
       " '.eggs/',\n",
       " 'lib64/',\n",
       " 'parts/',\n",
       " 'sdist/',\n",
       " 'var/',\n",
       " 'wheels/',\n",
       " '*.egg-info/',\n",
       " '.installed.cfg',\n",
       " '*.egg',\n",
       " 'MANIFEST',\n",
       " '*.manifest',\n",
       " '*.spec',\n",
       " 'pip-log.txt',\n",
       " 'pip-delete-this-directory.txt',\n",
       " 'htmlcov/',\n",
       " '.tox/',\n",
       " '.coverage',\n",
       " '.coverage.*',\n",
       " '.cache',\n",
       " 'nosetests.xml',\n",
       " 'coverage.xml',\n",
       " '*.cover',\n",
       " '.hypothesis/',\n",
       " '.pytest_cache/',\n",
       " '*.mo',\n",
       " '*.pot',\n",
       " '*.log',\n",
       " 'local_settings.py',\n",
       " 'db.sqlite3',\n",
       " 'instance/',\n",
       " '.webassets-cache',\n",
       " '.scrapy',\n",
       " 'docs/_build/',\n",
       " 'target/',\n",
       " '.ipynb_checkpoints',\n",
       " '.python-version',\n",
       " 'celerybeat-schedule',\n",
       " '*.sage.py',\n",
       " '.env',\n",
       " '.venv',\n",
       " 'env/',\n",
       " 'venv/',\n",
       " 'ENV/',\n",
       " 'env.bak/',\n",
       " 'venv.bak/',\n",
       " '.spyderproject',\n",
       " '.spyproject',\n",
       " '.ropeproject',\n",
       " '/site',\n",
       " '.mypy_cache/',\n",
       " '*.git/']"
      ]
     },
     "execution_count": 45,
     "metadata": {},
     "output_type": "execute_result"
    }
   ],
   "source": [
    "gitignore_rules"
   ]
  },
  {
   "cell_type": "code",
   "execution_count": null,
   "id": "7454b8c6",
   "metadata": {},
   "outputs": [],
   "source": []
  }
 ],
 "metadata": {
  "kernelspec": {
   "display_name": "Python 3 (ipykernel)",
   "language": "python",
   "name": "python3"
  },
  "language_info": {
   "codemirror_mode": {
    "name": "ipython",
    "version": 3
   },
   "file_extension": ".py",
   "mimetype": "text/x-python",
   "name": "python",
   "nbconvert_exporter": "python",
   "pygments_lexer": "ipython3",
   "version": "3.9.9"
  }
 },
 "nbformat": 4,
 "nbformat_minor": 5
}
